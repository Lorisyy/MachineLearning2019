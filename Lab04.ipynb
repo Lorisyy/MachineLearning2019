{
 "cells": [
  {
   "cell_type": "code",
   "execution_count": 2,
   "metadata": {},
   "outputs": [],
   "source": [
    "import tensorflow as tf"
   ]
  },
  {
   "cell_type": "markdown",
   "metadata": {},
   "source": [
    "编码实现第一个TensorFlow数据流图，运行它的各个组件，并初步了解TensorBoard。了解TensorFlow计算模型-计算图，TensorFlow数据模型-张量，以及Tensorflow运行-会话的初步概念。"
   ]
  },
  {
   "cell_type": "markdown",
   "metadata": {},
   "source": [
    "数据流图有两个基本操作：节点和边。"
   ]
  },
  {
   "cell_type": "code",
   "execution_count": 4,
   "metadata": {},
   "outputs": [],
   "source": [
    "a = tf.constant(5,name = \"input_a\")\n",
    "b = tf.constant(3,name = \"input_b\")\n",
    "c = tf.multiply(a,b,name = \"mul_c\")\n",
    "d = tf.add(a,b,name= \"add_d\")\n",
    "e = tf.add(c,d,name= \"add_e\")"
   ]
  },
  {
   "cell_type": "code",
   "execution_count": 5,
   "metadata": {},
   "outputs": [
    {
     "name": "stdout",
     "output_type": "stream",
     "text": [
      "23\n"
     ]
    }
   ],
   "source": [
    "#创建Tensorflow “Session” 对象\n",
    "sess = tf.Session()\n",
    "#运行Session对象\n",
    "sess.run(e)\n",
    "\n",
    "#节点e的输出保存咋output变量\n",
    "output = sess.run(e)\n",
    "print(output)"
   ]
  },
  {
   "cell_type": "code",
   "execution_count": 6,
   "metadata": {},
   "outputs": [],
   "source": [
    "# 利用TensorFlow可视化，在当前路径下生成目录my_graph:\n",
    "writer = tf.summary.FileWriter(\"./my_graph\",sess.graph)"
   ]
  },
  {
   "cell_type": "code",
   "execution_count": 7,
   "metadata": {},
   "outputs": [],
   "source": [
    "writer.close()\n",
    "sess.close()"
   ]
  },
  {
   "cell_type": "code",
   "execution_count": 8,
   "metadata": {},
   "outputs": [],
   "source": [
    "import tensorflow as tf"
   ]
  },
  {
   "cell_type": "code",
   "execution_count": 9,
   "metadata": {},
   "outputs": [
    {
     "name": "stdout",
     "output_type": "stream",
     "text": [
      "Tensor(\"Const:0\", shape=(3, 5), dtype=int32)\n",
      "Tensor(\"Reshape:0\", shape=(5, 3), dtype=int32)\n",
      "Tensor(\"Reshape_1:0\", shape=(3, 5), dtype=int32)\n"
     ]
    }
   ],
   "source": [
    "a = tf.constant([[1,2,3,4,5],[1,2,3,4,5],[1,2,3,4,5]])\n",
    "a1 = tf.reshape(a,[-1,3])#形状是5，3\n",
    "a2 = tf.reshape(a,[3,-1])\n",
    "print(a)\n",
    "print(a1)\n",
    "print(a2)"
   ]
  },
  {
   "cell_type": "code",
   "execution_count": null,
   "metadata": {},
   "outputs": [],
   "source": []
  }
 ],
 "metadata": {
  "kernelspec": {
   "display_name": "Python 3",
   "language": "python",
   "name": "python3"
  },
  "language_info": {
   "codemirror_mode": {
    "name": "ipython",
    "version": 3
   },
   "file_extension": ".py",
   "mimetype": "text/x-python",
   "name": "python",
   "nbconvert_exporter": "python",
   "pygments_lexer": "ipython3",
   "version": "3.7.2"
  }
 },
 "nbformat": 4,
 "nbformat_minor": 2
}
