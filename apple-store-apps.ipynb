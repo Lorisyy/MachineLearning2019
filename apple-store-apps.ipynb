{
 "cells": [
  {
   "cell_type": "code",
   "execution_count": 1,
   "metadata": {},
   "outputs": [],
   "source": [
    "import pandas"
   ]
  },
  {
   "cell_type": "code",
   "execution_count": 2,
   "metadata": {},
   "outputs": [],
   "source": [
    "import numpy"
   ]
  },
  {
   "cell_type": "code",
   "execution_count": 3,
   "metadata": {},
   "outputs": [],
   "source": [
    "import matplotlib.pyplot as plt\n",
    "%matplotlib inline"
   ]
  },
  {
   "cell_type": "code",
   "execution_count": 4,
   "metadata": {},
   "outputs": [],
   "source": [
    "import seaborn"
   ]
  },
  {
   "cell_type": "markdown",
   "metadata": {},
   "source": [
    "## 1. Introduction of the dataset\n",
    "https://www.kaggle.com/ramamet4/app-store-apple-data-set-10k-apps"
   ]
  },
  {
   "cell_type": "code",
   "execution_count": 5,
   "metadata": {},
   "outputs": [],
   "source": [
    "apps = pandas.read_csv('AppleStore.csv')"
   ]
  },
  {
   "cell_type": "code",
   "execution_count": 6,
   "metadata": {},
   "outputs": [
    {
     "data": {
      "text/html": [
       "<div>\n",
       "<style scoped>\n",
       "    .dataframe tbody tr th:only-of-type {\n",
       "        vertical-align: middle;\n",
       "    }\n",
       "\n",
       "    .dataframe tbody tr th {\n",
       "        vertical-align: top;\n",
       "    }\n",
       "\n",
       "    .dataframe thead th {\n",
       "        text-align: right;\n",
       "    }\n",
       "</style>\n",
       "<table border=\"1\" class=\"dataframe\">\n",
       "  <thead>\n",
       "    <tr style=\"text-align: right;\">\n",
       "      <th></th>\n",
       "      <th>Unnamed: 0</th>\n",
       "      <th>id</th>\n",
       "      <th>track_name</th>\n",
       "      <th>size_bytes</th>\n",
       "      <th>currency</th>\n",
       "      <th>price</th>\n",
       "      <th>rating_count_tot</th>\n",
       "      <th>rating_count_ver</th>\n",
       "      <th>user_rating</th>\n",
       "      <th>user_rating_ver</th>\n",
       "      <th>ver</th>\n",
       "      <th>cont_rating</th>\n",
       "      <th>prime_genre</th>\n",
       "      <th>sup_devices.num</th>\n",
       "      <th>ipadSc_urls.num</th>\n",
       "      <th>lang.num</th>\n",
       "      <th>vpp_lic</th>\n",
       "    </tr>\n",
       "  </thead>\n",
       "  <tbody>\n",
       "    <tr>\n",
       "      <th>0</th>\n",
       "      <td>1</td>\n",
       "      <td>281656475</td>\n",
       "      <td>PAC-MAN Premium</td>\n",
       "      <td>100788224</td>\n",
       "      <td>USD</td>\n",
       "      <td>3.99</td>\n",
       "      <td>21292</td>\n",
       "      <td>26</td>\n",
       "      <td>4.0</td>\n",
       "      <td>4.5</td>\n",
       "      <td>6.3.5</td>\n",
       "      <td>4+</td>\n",
       "      <td>Games</td>\n",
       "      <td>38</td>\n",
       "      <td>5</td>\n",
       "      <td>10</td>\n",
       "      <td>1</td>\n",
       "    </tr>\n",
       "    <tr>\n",
       "      <th>1</th>\n",
       "      <td>2</td>\n",
       "      <td>281796108</td>\n",
       "      <td>Evernote - stay organized</td>\n",
       "      <td>158578688</td>\n",
       "      <td>USD</td>\n",
       "      <td>0.00</td>\n",
       "      <td>161065</td>\n",
       "      <td>26</td>\n",
       "      <td>4.0</td>\n",
       "      <td>3.5</td>\n",
       "      <td>8.2.2</td>\n",
       "      <td>4+</td>\n",
       "      <td>Productivity</td>\n",
       "      <td>37</td>\n",
       "      <td>5</td>\n",
       "      <td>23</td>\n",
       "      <td>1</td>\n",
       "    </tr>\n",
       "    <tr>\n",
       "      <th>2</th>\n",
       "      <td>3</td>\n",
       "      <td>281940292</td>\n",
       "      <td>WeatherBug - Local Weather, Radar, Maps, Alerts</td>\n",
       "      <td>100524032</td>\n",
       "      <td>USD</td>\n",
       "      <td>0.00</td>\n",
       "      <td>188583</td>\n",
       "      <td>2822</td>\n",
       "      <td>3.5</td>\n",
       "      <td>4.5</td>\n",
       "      <td>5.0.0</td>\n",
       "      <td>4+</td>\n",
       "      <td>Weather</td>\n",
       "      <td>37</td>\n",
       "      <td>5</td>\n",
       "      <td>3</td>\n",
       "      <td>1</td>\n",
       "    </tr>\n",
       "    <tr>\n",
       "      <th>3</th>\n",
       "      <td>4</td>\n",
       "      <td>282614216</td>\n",
       "      <td>eBay: Best App to Buy, Sell, Save! Online Shop...</td>\n",
       "      <td>128512000</td>\n",
       "      <td>USD</td>\n",
       "      <td>0.00</td>\n",
       "      <td>262241</td>\n",
       "      <td>649</td>\n",
       "      <td>4.0</td>\n",
       "      <td>4.5</td>\n",
       "      <td>5.10.0</td>\n",
       "      <td>12+</td>\n",
       "      <td>Shopping</td>\n",
       "      <td>37</td>\n",
       "      <td>5</td>\n",
       "      <td>9</td>\n",
       "      <td>1</td>\n",
       "    </tr>\n",
       "    <tr>\n",
       "      <th>4</th>\n",
       "      <td>5</td>\n",
       "      <td>282935706</td>\n",
       "      <td>Bible</td>\n",
       "      <td>92774400</td>\n",
       "      <td>USD</td>\n",
       "      <td>0.00</td>\n",
       "      <td>985920</td>\n",
       "      <td>5320</td>\n",
       "      <td>4.5</td>\n",
       "      <td>5.0</td>\n",
       "      <td>7.5.1</td>\n",
       "      <td>4+</td>\n",
       "      <td>Reference</td>\n",
       "      <td>37</td>\n",
       "      <td>5</td>\n",
       "      <td>45</td>\n",
       "      <td>1</td>\n",
       "    </tr>\n",
       "  </tbody>\n",
       "</table>\n",
       "</div>"
      ],
      "text/plain": [
       "   Unnamed: 0         id                                         track_name  \\\n",
       "0           1  281656475                                    PAC-MAN Premium   \n",
       "1           2  281796108                          Evernote - stay organized   \n",
       "2           3  281940292    WeatherBug - Local Weather, Radar, Maps, Alerts   \n",
       "3           4  282614216  eBay: Best App to Buy, Sell, Save! Online Shop...   \n",
       "4           5  282935706                                              Bible   \n",
       "\n",
       "   size_bytes currency  price  rating_count_tot  rating_count_ver  \\\n",
       "0   100788224      USD   3.99             21292                26   \n",
       "1   158578688      USD   0.00            161065                26   \n",
       "2   100524032      USD   0.00            188583              2822   \n",
       "3   128512000      USD   0.00            262241               649   \n",
       "4    92774400      USD   0.00            985920              5320   \n",
       "\n",
       "   user_rating  user_rating_ver     ver cont_rating   prime_genre  \\\n",
       "0          4.0              4.5   6.3.5          4+         Games   \n",
       "1          4.0              3.5   8.2.2          4+  Productivity   \n",
       "2          3.5              4.5   5.0.0          4+       Weather   \n",
       "3          4.0              4.5  5.10.0         12+      Shopping   \n",
       "4          4.5              5.0   7.5.1          4+     Reference   \n",
       "\n",
       "   sup_devices.num  ipadSc_urls.num  lang.num  vpp_lic  \n",
       "0               38                5        10        1  \n",
       "1               37                5        23        1  \n",
       "2               37                5         3        1  \n",
       "3               37                5         9        1  \n",
       "4               37                5        45        1  "
      ]
     },
     "execution_count": 6,
     "metadata": {},
     "output_type": "execute_result"
    }
   ],
   "source": [
    "apps.head()"
   ]
  },
  {
   "cell_type": "code",
   "execution_count": 7,
   "metadata": {},
   "outputs": [
    {
     "data": {
      "text/plain": [
       "Unnamed: 0            int64\n",
       "id                    int64\n",
       "track_name           object\n",
       "size_bytes            int64\n",
       "currency             object\n",
       "price               float64\n",
       "rating_count_tot      int64\n",
       "rating_count_ver      int64\n",
       "user_rating         float64\n",
       "user_rating_ver     float64\n",
       "ver                  object\n",
       "cont_rating          object\n",
       "prime_genre          object\n",
       "sup_devices.num       int64\n",
       "ipadSc_urls.num       int64\n",
       "lang.num              int64\n",
       "vpp_lic               int64\n",
       "dtype: object"
      ]
     },
     "execution_count": 7,
     "metadata": {},
     "output_type": "execute_result"
    }
   ],
   "source": [
    "apps.dtypes"
   ]
  },
  {
   "cell_type": "code",
   "execution_count": 8,
   "metadata": {},
   "outputs": [
    {
     "data": {
      "text/plain": [
       "Unnamed: 0          0\n",
       "id                  0\n",
       "track_name          0\n",
       "size_bytes          0\n",
       "currency            0\n",
       "price               0\n",
       "rating_count_tot    0\n",
       "rating_count_ver    0\n",
       "user_rating         0\n",
       "user_rating_ver     0\n",
       "ver                 0\n",
       "cont_rating         0\n",
       "prime_genre         0\n",
       "sup_devices.num     0\n",
       "ipadSc_urls.num     0\n",
       "lang.num            0\n",
       "vpp_lic             0\n",
       "dtype: int64"
      ]
     },
     "execution_count": 8,
     "metadata": {},
     "output_type": "execute_result"
    }
   ],
   "source": [
    "apps.isna().sum()"
   ]
  },
  {
   "cell_type": "markdown",
   "metadata": {},
   "source": [
    "## 2. Average rating for each primary genre group"
   ]
  },
  {
   "cell_type": "code",
   "execution_count": 9,
   "metadata": {},
   "outputs": [
    {
     "data": {
      "text/plain": [
       "Games                3862\n",
       "Entertainment         535\n",
       "Education             453\n",
       "Photo & Video         349\n",
       "Utilities             248\n",
       "Health & Fitness      180\n",
       "Productivity          178\n",
       "Social Networking     167\n",
       "Lifestyle             144\n",
       "Music                 138\n",
       "Shopping              122\n",
       "Sports                114\n",
       "Book                  112\n",
       "Finance               104\n",
       "Travel                 81\n",
       "News                   75\n",
       "Weather                72\n",
       "Reference              64\n",
       "Food & Drink           63\n",
       "Business               57\n",
       "Navigation             46\n",
       "Medical                23\n",
       "Catalogs               10\n",
       "Name: prime_genre, dtype: int64"
      ]
     },
     "execution_count": 9,
     "metadata": {},
     "output_type": "execute_result"
    }
   ],
   "source": [
    "# number of apps in each genre group, more than half of the apps are games\n",
    "apps.prime_genre.value_counts()"
   ]
  },
  {
   "cell_type": "code",
   "execution_count": 10,
   "metadata": {},
   "outputs": [
    {
     "data": {
      "text/plain": [
       "<matplotlib.axes._subplots.AxesSubplot at 0x1a23f9e860>"
      ]
     },
     "execution_count": 10,
     "metadata": {},
     "output_type": "execute_result"
    },
    {
     "data": {
      "image/png": "[encoded data removed]",
      "text/plain": [
       "<Figure size 432x288 with 1 Axes>"
      ]
     },
     "metadata": {
      "needs_background": "light"
     },
     "output_type": "display_data"
    }
   ],
   "source": [
    "# app distributions, game apps are far out-numbered than others\n",
    "apps.prime_genre.value_counts().plot(kind='barh')"
   ]
  },
  {
   "cell_type": "code",
   "execution_count": 11,
   "metadata": {},
   "outputs": [
    {
     "data": {
      "text/plain": [
       "prime_genre\n",
       "Productivity         4.005618\n",
       "Music                3.978261\n",
       "Photo & Video        3.800860\n",
       "Business             3.745614\n",
       "Health & Fitness     3.700000\n",
       "Games                3.685008\n",
       "Weather              3.597222\n",
       "Shopping             3.540984\n",
       "Reference            3.453125\n",
       "Travel               3.376543\n",
       "Education            3.376380\n",
       "Medical              3.369565\n",
       "Utilities            3.278226\n",
       "Entertainment        3.246729\n",
       "Food & Drink         3.182540\n",
       "Social Networking    2.985030\n",
       "Sports               2.982456\n",
       "News                 2.980000\n",
       "Lifestyle            2.805556\n",
       "Navigation           2.684783\n",
       "Book                 2.477679\n",
       "Finance              2.432692\n",
       "Catalogs             2.100000\n",
       "Name: user_rating, dtype: float64"
      ]
     },
     "execution_count": 11,
     "metadata": {},
     "output_type": "execute_result"
    }
   ],
   "source": [
    "# average user rating for each group\n",
    "apps.groupby('prime_genre').user_rating.mean().sort_values(ascending=False)"
   ]
  },
  {
   "cell_type": "code",
   "execution_count": 12,
   "metadata": {},
   "outputs": [
    {
     "data": {
      "text/html": [
       "<div>\n",
       "<style scoped>\n",
       "    .dataframe tbody tr th:only-of-type {\n",
       "        vertical-align: middle;\n",
       "    }\n",
       "\n",
       "    .dataframe tbody tr th {\n",
       "        vertical-align: top;\n",
       "    }\n",
       "\n",
       "    .dataframe thead th {\n",
       "        text-align: right;\n",
       "    }\n",
       "</style>\n",
       "<table border=\"1\" class=\"dataframe\">\n",
       "  <thead>\n",
       "    <tr style=\"text-align: right;\">\n",
       "      <th></th>\n",
       "      <th>count</th>\n",
       "      <th>mean</th>\n",
       "      <th>std</th>\n",
       "      <th>min</th>\n",
       "      <th>25%</th>\n",
       "      <th>50%</th>\n",
       "      <th>75%</th>\n",
       "      <th>max</th>\n",
       "    </tr>\n",
       "    <tr>\n",
       "      <th>prime_genre</th>\n",
       "      <th></th>\n",
       "      <th></th>\n",
       "      <th></th>\n",
       "      <th></th>\n",
       "      <th></th>\n",
       "      <th></th>\n",
       "      <th></th>\n",
       "      <th></th>\n",
       "    </tr>\n",
       "  </thead>\n",
       "  <tbody>\n",
       "    <tr>\n",
       "      <th>Book</th>\n",
       "      <td>112.0</td>\n",
       "      <td>2.477679</td>\n",
       "      <td>2.190673</td>\n",
       "      <td>0.0</td>\n",
       "      <td>0.000</td>\n",
       "      <td>3.50</td>\n",
       "      <td>4.5</td>\n",
       "      <td>5.0</td>\n",
       "    </tr>\n",
       "    <tr>\n",
       "      <th>Business</th>\n",
       "      <td>57.0</td>\n",
       "      <td>3.745614</td>\n",
       "      <td>1.254004</td>\n",
       "      <td>0.0</td>\n",
       "      <td>3.500</td>\n",
       "      <td>4.00</td>\n",
       "      <td>4.5</td>\n",
       "      <td>5.0</td>\n",
       "    </tr>\n",
       "    <tr>\n",
       "      <th>Catalogs</th>\n",
       "      <td>10.0</td>\n",
       "      <td>2.100000</td>\n",
       "      <td>2.245984</td>\n",
       "      <td>0.0</td>\n",
       "      <td>0.000</td>\n",
       "      <td>1.75</td>\n",
       "      <td>4.0</td>\n",
       "      <td>5.0</td>\n",
       "    </tr>\n",
       "    <tr>\n",
       "      <th>Education</th>\n",
       "      <td>453.0</td>\n",
       "      <td>3.376380</td>\n",
       "      <td>1.543311</td>\n",
       "      <td>0.0</td>\n",
       "      <td>3.000</td>\n",
       "      <td>4.00</td>\n",
       "      <td>4.5</td>\n",
       "      <td>5.0</td>\n",
       "    </tr>\n",
       "    <tr>\n",
       "      <th>Entertainment</th>\n",
       "      <td>535.0</td>\n",
       "      <td>3.246729</td>\n",
       "      <td>1.437481</td>\n",
       "      <td>0.0</td>\n",
       "      <td>2.750</td>\n",
       "      <td>3.50</td>\n",
       "      <td>4.5</td>\n",
       "      <td>5.0</td>\n",
       "    </tr>\n",
       "    <tr>\n",
       "      <th>Finance</th>\n",
       "      <td>104.0</td>\n",
       "      <td>2.432692</td>\n",
       "      <td>1.859191</td>\n",
       "      <td>0.0</td>\n",
       "      <td>0.000</td>\n",
       "      <td>3.00</td>\n",
       "      <td>4.0</td>\n",
       "      <td>5.0</td>\n",
       "    </tr>\n",
       "    <tr>\n",
       "      <th>Food &amp; Drink</th>\n",
       "      <td>63.0</td>\n",
       "      <td>3.182540</td>\n",
       "      <td>1.678377</td>\n",
       "      <td>0.0</td>\n",
       "      <td>2.500</td>\n",
       "      <td>4.00</td>\n",
       "      <td>4.5</td>\n",
       "      <td>5.0</td>\n",
       "    </tr>\n",
       "    <tr>\n",
       "      <th>Games</th>\n",
       "      <td>3862.0</td>\n",
       "      <td>3.685008</td>\n",
       "      <td>1.468178</td>\n",
       "      <td>0.0</td>\n",
       "      <td>3.500</td>\n",
       "      <td>4.50</td>\n",
       "      <td>4.5</td>\n",
       "      <td>5.0</td>\n",
       "    </tr>\n",
       "    <tr>\n",
       "      <th>Health &amp; Fitness</th>\n",
       "      <td>180.0</td>\n",
       "      <td>3.700000</td>\n",
       "      <td>1.535975</td>\n",
       "      <td>0.0</td>\n",
       "      <td>3.500</td>\n",
       "      <td>4.50</td>\n",
       "      <td>4.5</td>\n",
       "      <td>5.0</td>\n",
       "    </tr>\n",
       "    <tr>\n",
       "      <th>Lifestyle</th>\n",
       "      <td>144.0</td>\n",
       "      <td>2.805556</td>\n",
       "      <td>1.756219</td>\n",
       "      <td>0.0</td>\n",
       "      <td>1.500</td>\n",
       "      <td>3.50</td>\n",
       "      <td>4.5</td>\n",
       "      <td>5.0</td>\n",
       "    </tr>\n",
       "    <tr>\n",
       "      <th>Medical</th>\n",
       "      <td>23.0</td>\n",
       "      <td>3.369565</td>\n",
       "      <td>1.765949</td>\n",
       "      <td>0.0</td>\n",
       "      <td>2.500</td>\n",
       "      <td>4.50</td>\n",
       "      <td>4.5</td>\n",
       "      <td>5.0</td>\n",
       "    </tr>\n",
       "    <tr>\n",
       "      <th>Music</th>\n",
       "      <td>138.0</td>\n",
       "      <td>3.978261</td>\n",
       "      <td>0.881417</td>\n",
       "      <td>0.0</td>\n",
       "      <td>4.000</td>\n",
       "      <td>4.00</td>\n",
       "      <td>4.5</td>\n",
       "      <td>5.0</td>\n",
       "    </tr>\n",
       "    <tr>\n",
       "      <th>Navigation</th>\n",
       "      <td>46.0</td>\n",
       "      <td>2.684783</td>\n",
       "      <td>1.947530</td>\n",
       "      <td>0.0</td>\n",
       "      <td>0.000</td>\n",
       "      <td>3.50</td>\n",
       "      <td>4.5</td>\n",
       "      <td>5.0</td>\n",
       "    </tr>\n",
       "    <tr>\n",
       "      <th>News</th>\n",
       "      <td>75.0</td>\n",
       "      <td>2.980000</td>\n",
       "      <td>1.632524</td>\n",
       "      <td>0.0</td>\n",
       "      <td>2.500</td>\n",
       "      <td>3.50</td>\n",
       "      <td>4.0</td>\n",
       "      <td>5.0</td>\n",
       "    </tr>\n",
       "    <tr>\n",
       "      <th>Photo &amp; Video</th>\n",
       "      <td>349.0</td>\n",
       "      <td>3.800860</td>\n",
       "      <td>1.278592</td>\n",
       "      <td>0.0</td>\n",
       "      <td>3.500</td>\n",
       "      <td>4.50</td>\n",
       "      <td>4.5</td>\n",
       "      <td>5.0</td>\n",
       "    </tr>\n",
       "    <tr>\n",
       "      <th>Productivity</th>\n",
       "      <td>178.0</td>\n",
       "      <td>4.005618</td>\n",
       "      <td>0.969869</td>\n",
       "      <td>0.0</td>\n",
       "      <td>4.000</td>\n",
       "      <td>4.50</td>\n",
       "      <td>4.5</td>\n",
       "      <td>5.0</td>\n",
       "    </tr>\n",
       "    <tr>\n",
       "      <th>Reference</th>\n",
       "      <td>64.0</td>\n",
       "      <td>3.453125</td>\n",
       "      <td>1.701350</td>\n",
       "      <td>0.0</td>\n",
       "      <td>3.500</td>\n",
       "      <td>4.00</td>\n",
       "      <td>4.5</td>\n",
       "      <td>5.0</td>\n",
       "    </tr>\n",
       "    <tr>\n",
       "      <th>Shopping</th>\n",
       "      <td>122.0</td>\n",
       "      <td>3.540984</td>\n",
       "      <td>1.513834</td>\n",
       "      <td>0.0</td>\n",
       "      <td>3.125</td>\n",
       "      <td>4.00</td>\n",
       "      <td>4.5</td>\n",
       "      <td>5.0</td>\n",
       "    </tr>\n",
       "    <tr>\n",
       "      <th>Social Networking</th>\n",
       "      <td>167.0</td>\n",
       "      <td>2.985030</td>\n",
       "      <td>1.660513</td>\n",
       "      <td>0.0</td>\n",
       "      <td>2.500</td>\n",
       "      <td>3.50</td>\n",
       "      <td>4.0</td>\n",
       "      <td>5.0</td>\n",
       "    </tr>\n",
       "    <tr>\n",
       "      <th>Sports</th>\n",
       "      <td>114.0</td>\n",
       "      <td>2.982456</td>\n",
       "      <td>1.421905</td>\n",
       "      <td>0.0</td>\n",
       "      <td>2.500</td>\n",
       "      <td>3.50</td>\n",
       "      <td>4.0</td>\n",
       "      <td>5.0</td>\n",
       "    </tr>\n",
       "    <tr>\n",
       "      <th>Travel</th>\n",
       "      <td>81.0</td>\n",
       "      <td>3.376543</td>\n",
       "      <td>1.519726</td>\n",
       "      <td>0.0</td>\n",
       "      <td>3.000</td>\n",
       "      <td>4.00</td>\n",
       "      <td>4.5</td>\n",
       "      <td>5.0</td>\n",
       "    </tr>\n",
       "    <tr>\n",
       "      <th>Utilities</th>\n",
       "      <td>248.0</td>\n",
       "      <td>3.278226</td>\n",
       "      <td>1.473521</td>\n",
       "      <td>0.0</td>\n",
       "      <td>2.875</td>\n",
       "      <td>4.00</td>\n",
       "      <td>4.5</td>\n",
       "      <td>5.0</td>\n",
       "    </tr>\n",
       "    <tr>\n",
       "      <th>Weather</th>\n",
       "      <td>72.0</td>\n",
       "      <td>3.597222</td>\n",
       "      <td>1.266132</td>\n",
       "      <td>0.0</td>\n",
       "      <td>3.500</td>\n",
       "      <td>4.00</td>\n",
       "      <td>4.5</td>\n",
       "      <td>5.0</td>\n",
       "    </tr>\n",
       "  </tbody>\n",
       "</table>\n",
       "</div>"
      ],
      "text/plain": [
       "                    count      mean       std  min    25%   50%  75%  max\n",
       "prime_genre                                                              \n",
       "Book                112.0  2.477679  2.190673  0.0  0.000  3.50  4.5  5.0\n",
       "Business             57.0  3.745614  1.254004  0.0  3.500  4.00  4.5  5.0\n",
       "Catalogs             10.0  2.100000  2.245984  0.0  0.000  1.75  4.0  5.0\n",
       "Education           453.0  3.376380  1.543311  0.0  3.000  4.00  4.5  5.0\n",
       "Entertainment       535.0  3.246729  1.437481  0.0  2.750  3.50  4.5  5.0\n",
       "Finance             104.0  2.432692  1.859191  0.0  0.000  3.00  4.0  5.0\n",
       "Food & Drink         63.0  3.182540  1.678377  0.0  2.500  4.00  4.5  5.0\n",
       "Games              3862.0  3.685008  1.468178  0.0  3.500  4.50  4.5  5.0\n",
       "Health & Fitness    180.0  3.700000  1.535975  0.0  3.500  4.50  4.5  5.0\n",
       "Lifestyle           144.0  2.805556  1.756219  0.0  1.500  3.50  4.5  5.0\n",
       "Medical              23.0  3.369565  1.765949  0.0  2.500  4.50  4.5  5.0\n",
       "Music               138.0  3.978261  0.881417  0.0  4.000  4.00  4.5  5.0\n",
       "Navigation           46.0  2.684783  1.947530  0.0  0.000  3.50  4.5  5.0\n",
       "News                 75.0  2.980000  1.632524  0.0  2.500  3.50  4.0  5.0\n",
       "Photo & Video       349.0  3.800860  1.278592  0.0  3.500  4.50  4.5  5.0\n",
       "Productivity        178.0  4.005618  0.969869  0.0  4.000  4.50  4.5  5.0\n",
       "Reference            64.0  3.453125  1.701350  0.0  3.500  4.00  4.5  5.0\n",
       "Shopping            122.0  3.540984  1.513834  0.0  3.125  4.00  4.5  5.0\n",
       "Social Networking   167.0  2.985030  1.660513  0.0  2.500  3.50  4.0  5.0\n",
       "Sports              114.0  2.982456  1.421905  0.0  2.500  3.50  4.0  5.0\n",
       "Travel               81.0  3.376543  1.519726  0.0  3.000  4.00  4.5  5.0\n",
       "Utilities           248.0  3.278226  1.473521  0.0  2.875  4.00  4.5  5.0\n",
       "Weather              72.0  3.597222  1.266132  0.0  3.500  4.00  4.5  5.0"
      ]
     },
     "execution_count": 12,
     "metadata": {},
     "output_type": "execute_result"
    }
   ],
   "source": [
    "## ratings descriptive statistcs for each genre\n",
    "apps.groupby('prime_genre').user_rating.describe()"
   ]
  },
  {
   "cell_type": "code",
   "execution_count": 13,
   "metadata": {},
   "outputs": [
    {
     "data": {
      "image/png": "[encoded data removed]",
      "text/plain": [
       "<Figure size 432x288 with 1 Axes>"
      ]
     },
     "metadata": {
      "needs_background": "light"
     },
     "output_type": "display_data"
    }
   ],
   "source": [
    "# Grouped boxplot\n",
    "seaborn.boxplot(y=\"prime_genre\", x=\"user_rating\", data=apps, palette=\"Set3\")\n",
    "plt.show()\n"
   ]
  },
  {
   "cell_type": "code",
   "execution_count": 14,
   "metadata": {},
   "outputs": [
    {
     "data": {
      "text/plain": [
       "prime_genre\n",
       "Social Networking    45498.898204\n",
       "Music                28842.021739\n",
       "Reference            22410.843750\n",
       "Weather              22181.027778\n",
       "Shopping             18615.327869\n",
       "Photo & Video        14352.280802\n",
       "Travel               14129.444444\n",
       "Sports               14026.929825\n",
       "Food & Drink         13938.619048\n",
       "Games                13691.996634\n",
       "News                 13015.066667\n",
       "Navigation           11853.956522\n",
       "Finance              11047.653846\n",
       "Health & Fitness      9913.172222\n",
       "Productivity          8051.325843\n",
       "Entertainment         7533.678505\n",
       "Utilities             6863.822581\n",
       "Lifestyle             6161.763889\n",
       "Book                  5125.437500\n",
       "Business              4788.087719\n",
       "Education             2239.229581\n",
       "Catalogs              1732.500000\n",
       "Medical                592.782609\n",
       "Name: rating_count_tot, dtype: float64"
      ]
     },
     "execution_count": 14,
     "metadata": {},
     "output_type": "execute_result"
    }
   ],
   "source": [
    "# average number of rating for each group\n",
    "apps.groupby('prime_genre').rating_count_tot.mean().sort_values(ascending=False)"
   ]
  },
  {
   "cell_type": "markdown",
   "metadata": {},
   "source": [
    "## 3. What are the popular apps among different categories?"
   ]
  },
  {
   "cell_type": "code",
   "execution_count": 15,
   "metadata": {},
   "outputs": [
    {
     "data": {
      "text/html": [
       "<div>\n",
       "<style scoped>\n",
       "    .dataframe tbody tr th:only-of-type {\n",
       "        vertical-align: middle;\n",
       "    }\n",
       "\n",
       "    .dataframe tbody tr th {\n",
       "        vertical-align: top;\n",
       "    }\n",
       "\n",
       "    .dataframe thead th {\n",
       "        text-align: right;\n",
       "    }\n",
       "</style>\n",
       "<table border=\"1\" class=\"dataframe\">\n",
       "  <thead>\n",
       "    <tr style=\"text-align: right;\">\n",
       "      <th></th>\n",
       "      <th>track_name</th>\n",
       "      <th>prime_genre</th>\n",
       "      <th>rating_count_tot</th>\n",
       "      <th>user_rating</th>\n",
       "    </tr>\n",
       "  </thead>\n",
       "  <tbody>\n",
       "    <tr>\n",
       "      <th>16</th>\n",
       "      <td>Facebook</td>\n",
       "      <td>Social Networking</td>\n",
       "      <td>2974676</td>\n",
       "      <td>3.5</td>\n",
       "    </tr>\n",
       "    <tr>\n",
       "      <th>519</th>\n",
       "      <td>Instagram</td>\n",
       "      <td>Photo &amp; Video</td>\n",
       "      <td>2161558</td>\n",
       "      <td>4.5</td>\n",
       "    </tr>\n",
       "    <tr>\n",
       "      <th>1346</th>\n",
       "      <td>Clash of Clans</td>\n",
       "      <td>Games</td>\n",
       "      <td>2130805</td>\n",
       "      <td>4.5</td>\n",
       "    </tr>\n",
       "    <tr>\n",
       "      <th>707</th>\n",
       "      <td>Temple Run</td>\n",
       "      <td>Games</td>\n",
       "      <td>1724546</td>\n",
       "      <td>4.5</td>\n",
       "    </tr>\n",
       "    <tr>\n",
       "      <th>7</th>\n",
       "      <td>Pandora - Music &amp; Radio</td>\n",
       "      <td>Music</td>\n",
       "      <td>1126879</td>\n",
       "      <td>4.0</td>\n",
       "    </tr>\n",
       "    <tr>\n",
       "      <th>755</th>\n",
       "      <td>Pinterest</td>\n",
       "      <td>Social Networking</td>\n",
       "      <td>1061624</td>\n",
       "      <td>4.5</td>\n",
       "    </tr>\n",
       "    <tr>\n",
       "      <th>4</th>\n",
       "      <td>Bible</td>\n",
       "      <td>Reference</td>\n",
       "      <td>985920</td>\n",
       "      <td>4.5</td>\n",
       "    </tr>\n",
       "    <tr>\n",
       "      <th>1493</th>\n",
       "      <td>Candy Crush Saga</td>\n",
       "      <td>Games</td>\n",
       "      <td>961794</td>\n",
       "      <td>4.5</td>\n",
       "    </tr>\n",
       "    <tr>\n",
       "      <th>178</th>\n",
       "      <td>Spotify Music</td>\n",
       "      <td>Music</td>\n",
       "      <td>878563</td>\n",
       "      <td>4.5</td>\n",
       "    </tr>\n",
       "    <tr>\n",
       "      <th>275</th>\n",
       "      <td>Angry Birds</td>\n",
       "      <td>Games</td>\n",
       "      <td>824451</td>\n",
       "      <td>4.5</td>\n",
       "    </tr>\n",
       "  </tbody>\n",
       "</table>\n",
       "</div>"
      ],
      "text/plain": [
       "                   track_name        prime_genre  rating_count_tot  \\\n",
       "16                   Facebook  Social Networking           2974676   \n",
       "519                 Instagram      Photo & Video           2161558   \n",
       "1346           Clash of Clans              Games           2130805   \n",
       "707                Temple Run              Games           1724546   \n",
       "7     Pandora - Music & Radio              Music           1126879   \n",
       "755                 Pinterest  Social Networking           1061624   \n",
       "4                       Bible          Reference            985920   \n",
       "1493         Candy Crush Saga              Games            961794   \n",
       "178             Spotify Music              Music            878563   \n",
       "275               Angry Birds              Games            824451   \n",
       "\n",
       "      user_rating  \n",
       "16            3.5  \n",
       "519           4.5  \n",
       "1346          4.5  \n",
       "707           4.5  \n",
       "7             4.0  \n",
       "755           4.5  \n",
       "4             4.5  \n",
       "1493          4.5  \n",
       "178           4.5  \n",
       "275           4.5  "
      ]
     },
     "execution_count": 15,
     "metadata": {},
     "output_type": "execute_result"
    }
   ],
   "source": [
    "# take costumer rating counts as a essential factor, the top 10 popular apps are Facebook, instagram etc..\n",
    "# apps.rating_count_tot.sort_values().tail(10)\n",
    "top_10_apps = apps.nlargest(10, 'rating_count_tot')[['track_name','prime_genre','rating_count_tot',\"user_rating\"]]\n",
    "top_10_apps"
   ]
  },
  {
   "cell_type": "code",
   "execution_count": 16,
   "metadata": {},
   "outputs": [
    {
     "data": {
      "text/plain": [
       "<matplotlib.axes._subplots.AxesSubplot at 0x1a24447668>"
      ]
     },
     "execution_count": 16,
     "metadata": {},
     "output_type": "execute_result"
    },
    {
     "data": {
      "image/png": "[encoded data removed]",
      "text/plain": [
       "<Figure size 432x288 with 1 Axes>"
      ]
     },
     "metadata": {
      "needs_background": "light"
     },
     "output_type": "display_data"
    }
   ],
   "source": [
    "seaborn.barplot(y=\"track_name\", x=\"rating_count_tot\", data=top_10_apps)"
   ]
  },
  {
   "cell_type": "code",
   "execution_count": 17,
   "metadata": {},
   "outputs": [
    {
     "data": {
      "text/html": [
       "<div>\n",
       "<style scoped>\n",
       "    .dataframe tbody tr th:only-of-type {\n",
       "        vertical-align: middle;\n",
       "    }\n",
       "\n",
       "    .dataframe tbody tr th {\n",
       "        vertical-align: top;\n",
       "    }\n",
       "\n",
       "    .dataframe thead th {\n",
       "        text-align: right;\n",
       "    }\n",
       "</style>\n",
       "<table border=\"1\" class=\"dataframe\">\n",
       "  <thead>\n",
       "    <tr style=\"text-align: right;\">\n",
       "      <th></th>\n",
       "      <th></th>\n",
       "      <th>track_name</th>\n",
       "      <th>prime_genre</th>\n",
       "      <th>rating_count_tot</th>\n",
       "      <th>user_rating</th>\n",
       "    </tr>\n",
       "    <tr>\n",
       "      <th>prime_genre</th>\n",
       "      <th></th>\n",
       "      <th></th>\n",
       "      <th></th>\n",
       "      <th></th>\n",
       "      <th></th>\n",
       "    </tr>\n",
       "  </thead>\n",
       "  <tbody>\n",
       "    <tr>\n",
       "      <th>Social Networking</th>\n",
       "      <th>16</th>\n",
       "      <td>Facebook</td>\n",
       "      <td>Social Networking</td>\n",
       "      <td>2974676</td>\n",
       "      <td>3.5</td>\n",
       "    </tr>\n",
       "    <tr>\n",
       "      <th>Photo &amp; Video</th>\n",
       "      <th>519</th>\n",
       "      <td>Instagram</td>\n",
       "      <td>Photo &amp; Video</td>\n",
       "      <td>2161558</td>\n",
       "      <td>4.5</td>\n",
       "    </tr>\n",
       "    <tr>\n",
       "      <th>Games</th>\n",
       "      <th>1346</th>\n",
       "      <td>Clash of Clans</td>\n",
       "      <td>Games</td>\n",
       "      <td>2130805</td>\n",
       "      <td>4.5</td>\n",
       "    </tr>\n",
       "    <tr>\n",
       "      <th>Music</th>\n",
       "      <th>7</th>\n",
       "      <td>Pandora - Music &amp; Radio</td>\n",
       "      <td>Music</td>\n",
       "      <td>1126879</td>\n",
       "      <td>4.0</td>\n",
       "    </tr>\n",
       "    <tr>\n",
       "      <th>Reference</th>\n",
       "      <th>4</th>\n",
       "      <td>Bible</td>\n",
       "      <td>Reference</td>\n",
       "      <td>985920</td>\n",
       "      <td>4.5</td>\n",
       "    </tr>\n",
       "    <tr>\n",
       "      <th>Health &amp; Fitness</th>\n",
       "      <th>265</th>\n",
       "      <td>Calorie Counter &amp; Diet Tracker by MyFitnessPal</td>\n",
       "      <td>Health &amp; Fitness</td>\n",
       "      <td>507706</td>\n",
       "      <td>4.5</td>\n",
       "    </tr>\n",
       "    <tr>\n",
       "      <th>Weather</th>\n",
       "      <th>53</th>\n",
       "      <td>The Weather Channel: Forecast, Radar &amp; Alerts</td>\n",
       "      <td>Weather</td>\n",
       "      <td>495626</td>\n",
       "      <td>3.5</td>\n",
       "    </tr>\n",
       "    <tr>\n",
       "      <th>Utilities</th>\n",
       "      <th>12</th>\n",
       "      <td>Google – Search made just for mobile</td>\n",
       "      <td>Utilities</td>\n",
       "      <td>479440</td>\n",
       "      <td>3.5</td>\n",
       "    </tr>\n",
       "    <tr>\n",
       "      <th>Travel</th>\n",
       "      <th>45</th>\n",
       "      <td>Google Earth</td>\n",
       "      <td>Travel</td>\n",
       "      <td>446185</td>\n",
       "      <td>3.5</td>\n",
       "    </tr>\n",
       "    <tr>\n",
       "      <th>Shopping</th>\n",
       "      <th>317</th>\n",
       "      <td>Groupon - Deals, Coupons &amp; Discount Shopping App</td>\n",
       "      <td>Shopping</td>\n",
       "      <td>417779</td>\n",
       "      <td>4.5</td>\n",
       "    </tr>\n",
       "    <tr>\n",
       "      <th>News</th>\n",
       "      <th>221</th>\n",
       "      <td>Twitter</td>\n",
       "      <td>News</td>\n",
       "      <td>354058</td>\n",
       "      <td>3.5</td>\n",
       "    </tr>\n",
       "    <tr>\n",
       "      <th>Navigation</th>\n",
       "      <th>174</th>\n",
       "      <td>Waze - GPS Navigation, Maps &amp; Real-time Traffic</td>\n",
       "      <td>Navigation</td>\n",
       "      <td>345046</td>\n",
       "      <td>4.5</td>\n",
       "    </tr>\n",
       "    <tr>\n",
       "      <th>Lifestyle</th>\n",
       "      <th>127</th>\n",
       "      <td>Zillow Real Estate - Homes for Sale &amp; for Rent</td>\n",
       "      <td>Lifestyle</td>\n",
       "      <td>342969</td>\n",
       "      <td>4.5</td>\n",
       "    </tr>\n",
       "    <tr>\n",
       "      <th>Entertainment</th>\n",
       "      <th>358</th>\n",
       "      <td>Netflix</td>\n",
       "      <td>Entertainment</td>\n",
       "      <td>308844</td>\n",
       "      <td>3.5</td>\n",
       "    </tr>\n",
       "    <tr>\n",
       "      <th>Food &amp; Drink</th>\n",
       "      <th>209</th>\n",
       "      <td>Starbucks</td>\n",
       "      <td>Food &amp; Drink</td>\n",
       "      <td>303856</td>\n",
       "      <td>4.5</td>\n",
       "    </tr>\n",
       "    <tr>\n",
       "      <th>Sports</th>\n",
       "      <th>150</th>\n",
       "      <td>ESPN: Get scores, news, alerts &amp; watch live sp...</td>\n",
       "      <td>Sports</td>\n",
       "      <td>290996</td>\n",
       "      <td>3.5</td>\n",
       "    </tr>\n",
       "    <tr>\n",
       "      <th>Book</th>\n",
       "      <th>82</th>\n",
       "      <td>Kindle – Read eBooks, Magazines &amp; Textbooks</td>\n",
       "      <td>Book</td>\n",
       "      <td>252076</td>\n",
       "      <td>3.5</td>\n",
       "    </tr>\n",
       "    <tr>\n",
       "      <th>Finance</th>\n",
       "      <th>67</th>\n",
       "      <td>Chase Mobile℠</td>\n",
       "      <td>Finance</td>\n",
       "      <td>233270</td>\n",
       "      <td>4.5</td>\n",
       "    </tr>\n",
       "    <tr>\n",
       "      <th>Education</th>\n",
       "      <th>1597</th>\n",
       "      <td>Duolingo - Learn Spanish, French and more</td>\n",
       "      <td>Education</td>\n",
       "      <td>162701</td>\n",
       "      <td>4.5</td>\n",
       "    </tr>\n",
       "    <tr>\n",
       "      <th>Productivity</th>\n",
       "      <th>1</th>\n",
       "      <td>Evernote - stay organized</td>\n",
       "      <td>Productivity</td>\n",
       "      <td>161065</td>\n",
       "      <td>4.0</td>\n",
       "    </tr>\n",
       "    <tr>\n",
       "      <th>Business</th>\n",
       "      <th>123</th>\n",
       "      <td>Indeed Job Search</td>\n",
       "      <td>Business</td>\n",
       "      <td>38681</td>\n",
       "      <td>4.0</td>\n",
       "    </tr>\n",
       "    <tr>\n",
       "      <th>Catalogs</th>\n",
       "      <th>3347</th>\n",
       "      <td>CPlus for Craigslist app - mobile classifieds</td>\n",
       "      <td>Catalogs</td>\n",
       "      <td>13345</td>\n",
       "      <td>5.0</td>\n",
       "    </tr>\n",
       "    <tr>\n",
       "      <th>Medical</th>\n",
       "      <th>187</th>\n",
       "      <td>Baby Connect (Activity Log)</td>\n",
       "      <td>Medical</td>\n",
       "      <td>3483</td>\n",
       "      <td>4.5</td>\n",
       "    </tr>\n",
       "  </tbody>\n",
       "</table>\n",
       "</div>"
      ],
      "text/plain": [
       "                                                               track_name  \\\n",
       "prime_genre                                                                 \n",
       "Social Networking 16                                             Facebook   \n",
       "Photo & Video     519                                           Instagram   \n",
       "Games             1346                                     Clash of Clans   \n",
       "Music             7                               Pandora - Music & Radio   \n",
       "Reference         4                                                 Bible   \n",
       "Health & Fitness  265      Calorie Counter & Diet Tracker by MyFitnessPal   \n",
       "Weather           53        The Weather Channel: Forecast, Radar & Alerts   \n",
       "Utilities         12                 Google – Search made just for mobile   \n",
       "Travel            45                                         Google Earth   \n",
       "Shopping          317    Groupon - Deals, Coupons & Discount Shopping App   \n",
       "News              221                                             Twitter   \n",
       "Navigation        174     Waze - GPS Navigation, Maps & Real-time Traffic   \n",
       "Lifestyle         127      Zillow Real Estate - Homes for Sale & for Rent   \n",
       "Entertainment     358                                             Netflix   \n",
       "Food & Drink      209                                           Starbucks   \n",
       "Sports            150   ESPN: Get scores, news, alerts & watch live sp...   \n",
       "Book              82          Kindle – Read eBooks, Magazines & Textbooks   \n",
       "Finance           67                                        Chase Mobile℠   \n",
       "Education         1597          Duolingo - Learn Spanish, French and more   \n",
       "Productivity      1                             Evernote - stay organized   \n",
       "Business          123                                   Indeed Job Search   \n",
       "Catalogs          3347      CPlus for Craigslist app - mobile classifieds   \n",
       "Medical           187                         Baby Connect (Activity Log)   \n",
       "\n",
       "                              prime_genre  rating_count_tot  user_rating  \n",
       "prime_genre                                                               \n",
       "Social Networking 16    Social Networking           2974676          3.5  \n",
       "Photo & Video     519       Photo & Video           2161558          4.5  \n",
       "Games             1346              Games           2130805          4.5  \n",
       "Music             7                 Music           1126879          4.0  \n",
       "Reference         4             Reference            985920          4.5  \n",
       "Health & Fitness  265    Health & Fitness            507706          4.5  \n",
       "Weather           53              Weather            495626          3.5  \n",
       "Utilities         12            Utilities            479440          3.5  \n",
       "Travel            45               Travel            446185          3.5  \n",
       "Shopping          317            Shopping            417779          4.5  \n",
       "News              221                News            354058          3.5  \n",
       "Navigation        174          Navigation            345046          4.5  \n",
       "Lifestyle         127           Lifestyle            342969          4.5  \n",
       "Entertainment     358       Entertainment            308844          3.5  \n",
       "Food & Drink      209        Food & Drink            303856          4.5  \n",
       "Sports            150              Sports            290996          3.5  \n",
       "Book              82                 Book            252076          3.5  \n",
       "Finance           67              Finance            233270          4.5  \n",
       "Education         1597          Education            162701          4.5  \n",
       "Productivity      1          Productivity            161065          4.0  \n",
       "Business          123            Business             38681          4.0  \n",
       "Catalogs          3347           Catalogs             13345          5.0  \n",
       "Medical           187             Medical              3483          4.5  "
      ]
     },
     "execution_count": 17,
     "metadata": {},
     "output_type": "execute_result"
    }
   ],
   "source": [
    "# we also explore the most popular ones for each genre\n",
    "#apps.groupby('prime_genre').rating_count_tot.max().sort_values()\n",
    "#apps.groupby('prime_genre').apply(pandas.DataFrame.sort_values, 'rating_count_tot', ascending=False)\n",
    "top_apps = apps.groupby('prime_genre').apply(lambda x: x[x[\"rating_count_tot\"] == x[\"rating_count_tot\"].max()])\n",
    "top_apps[['track_name','prime_genre','rating_count_tot',\"user_rating\"]].sort_values(by='rating_count_tot', ascending=False)"
   ]
  },
  {
   "cell_type": "code",
   "execution_count": 18,
   "metadata": {},
   "outputs": [
    {
     "data": {
      "text/plain": [
       "<matplotlib.axes._subplots.AxesSubplot at 0x1a2468b8d0>"
      ]
     },
     "execution_count": 18,
     "metadata": {},
     "output_type": "execute_result"
    },
    {
     "data": {
      "image/png": "[encoded data removed]",
      "text/plain": [
       "<Figure size 432x288 with 1 Axes>"
      ]
     },
     "metadata": {
      "needs_background": "light"
     },
     "output_type": "display_data"
    }
   ],
   "source": [
    "seaborn.barplot(y=\"track_name\", x=\"rating_count_tot\", data=top_apps)"
   ]
  },
  {
   "cell_type": "markdown",
   "metadata": {},
   "source": [
    "## 4. Prices vs. Popularities"
   ]
  },
  {
   "cell_type": "code",
   "execution_count": 19,
   "metadata": {},
   "outputs": [],
   "source": [
    "free_apps = apps[apps.price==0]"
   ]
  },
  {
   "cell_type": "code",
   "execution_count": 20,
   "metadata": {},
   "outputs": [
    {
     "data": {
      "text/plain": [
       "4056"
      ]
     },
     "execution_count": 20,
     "metadata": {},
     "output_type": "execute_result"
    }
   ],
   "source": [
    "len(free_apps)"
   ]
  },
  {
   "cell_type": "code",
   "execution_count": 21,
   "metadata": {},
   "outputs": [],
   "source": [
    "paid_apps = apps[apps.price>0]"
   ]
  },
  {
   "cell_type": "code",
   "execution_count": 22,
   "metadata": {},
   "outputs": [
    {
     "data": {
      "text/plain": [
       "3141"
      ]
     },
     "execution_count": 22,
     "metadata": {},
     "output_type": "execute_result"
    }
   ],
   "source": [
    "# about 900 more free apps than paid\n",
    "len(paid_apps)"
   ]
  },
  {
   "cell_type": "code",
   "execution_count": 23,
   "metadata": {},
   "outputs": [],
   "source": [
    "# categorize apps into two groups with tag 'paid' or 'free'\n",
    "apps['paid'] = numpy.where(apps['price']>0, 'paid', 'free')"
   ]
  },
  {
   "cell_type": "code",
   "execution_count": 24,
   "metadata": {},
   "outputs": [
    {
     "data": {
      "text/plain": [
       "<seaborn.axisgrid.FacetGrid at 0x1a24715588>"
      ]
     },
     "execution_count": 24,
     "metadata": {},
     "output_type": "execute_result"
    },
    {
     "data": {
      "image/png": "[encoded data removed]",
      "text/plain": [
       "<Figure size 417.625x360 with 1 Axes>"
      ]
     },
     "metadata": {
      "needs_background": "light"
     },
     "output_type": "display_data"
    }
   ],
   "source": [
    "# compare numbers for paid and free apps\n",
    "seaborn.catplot(y=\"prime_genre\", hue=\"paid\", kind=\"count\", data=apps)\n"
   ]
  },
  {
   "cell_type": "markdown",
   "metadata": {},
   "source": [
    "### 4.1 Compare user ratings for paid and free apps"
   ]
  },
  {
   "cell_type": "code",
   "execution_count": 25,
   "metadata": {},
   "outputs": [
    {
     "data": {
      "text/html": [
       "<div>\n",
       "<style scoped>\n",
       "    .dataframe tbody tr th:only-of-type {\n",
       "        vertical-align: middle;\n",
       "    }\n",
       "\n",
       "    .dataframe tbody tr th {\n",
       "        vertical-align: top;\n",
       "    }\n",
       "\n",
       "    .dataframe thead th {\n",
       "        text-align: right;\n",
       "    }\n",
       "</style>\n",
       "<table border=\"1\" class=\"dataframe\">\n",
       "  <thead>\n",
       "    <tr style=\"text-align: right;\">\n",
       "      <th></th>\n",
       "      <th>count</th>\n",
       "      <th>mean</th>\n",
       "      <th>std</th>\n",
       "      <th>min</th>\n",
       "      <th>25%</th>\n",
       "      <th>50%</th>\n",
       "      <th>75%</th>\n",
       "      <th>max</th>\n",
       "    </tr>\n",
       "    <tr>\n",
       "      <th>paid</th>\n",
       "      <th></th>\n",
       "      <th></th>\n",
       "      <th></th>\n",
       "      <th></th>\n",
       "      <th></th>\n",
       "      <th></th>\n",
       "      <th></th>\n",
       "      <th></th>\n",
       "    </tr>\n",
       "  </thead>\n",
       "  <tbody>\n",
       "    <tr>\n",
       "      <th>free</th>\n",
       "      <td>4056.0</td>\n",
       "      <td>3.376726</td>\n",
       "      <td>1.644807</td>\n",
       "      <td>0.0</td>\n",
       "      <td>3.0</td>\n",
       "      <td>4.0</td>\n",
       "      <td>4.5</td>\n",
       "      <td>5.0</td>\n",
       "    </tr>\n",
       "    <tr>\n",
       "      <th>paid</th>\n",
       "      <td>3141.0</td>\n",
       "      <td>3.720949</td>\n",
       "      <td>1.311471</td>\n",
       "      <td>0.0</td>\n",
       "      <td>3.5</td>\n",
       "      <td>4.0</td>\n",
       "      <td>4.5</td>\n",
       "      <td>5.0</td>\n",
       "    </tr>\n",
       "  </tbody>\n",
       "</table>\n",
       "</div>"
      ],
      "text/plain": [
       "       count      mean       std  min  25%  50%  75%  max\n",
       "paid                                                     \n",
       "free  4056.0  3.376726  1.644807  0.0  3.0  4.0  4.5  5.0\n",
       "paid  3141.0  3.720949  1.311471  0.0  3.5  4.0  4.5  5.0"
      ]
     },
     "execution_count": 25,
     "metadata": {},
     "output_type": "execute_result"
    }
   ],
   "source": [
    "# compare ratings distribution for free apps and paid apps, paid apps have higher mean user rating with smaller \n",
    "# standard deviation\n",
    "apps.groupby('paid')['user_rating'].describe()"
   ]
  },
  {
   "cell_type": "code",
   "execution_count": 26,
   "metadata": {},
   "outputs": [
    {
     "data": {
      "text/html": [
       "<div>\n",
       "<style scoped>\n",
       "    .dataframe tbody tr th:only-of-type {\n",
       "        vertical-align: middle;\n",
       "    }\n",
       "\n",
       "    .dataframe tbody tr th {\n",
       "        vertical-align: top;\n",
       "    }\n",
       "\n",
       "    .dataframe thead th {\n",
       "        text-align: right;\n",
       "    }\n",
       "</style>\n",
       "<table border=\"1\" class=\"dataframe\">\n",
       "  <thead>\n",
       "    <tr style=\"text-align: right;\">\n",
       "      <th>user_rating</th>\n",
       "      <th>0.0</th>\n",
       "      <th>1.0</th>\n",
       "      <th>1.5</th>\n",
       "      <th>2.0</th>\n",
       "      <th>2.5</th>\n",
       "      <th>3.0</th>\n",
       "      <th>3.5</th>\n",
       "      <th>4.0</th>\n",
       "      <th>4.5</th>\n",
       "      <th>5.0</th>\n",
       "    </tr>\n",
       "    <tr>\n",
       "      <th>paid</th>\n",
       "      <th></th>\n",
       "      <th></th>\n",
       "      <th></th>\n",
       "      <th></th>\n",
       "      <th></th>\n",
       "      <th></th>\n",
       "      <th></th>\n",
       "      <th></th>\n",
       "      <th></th>\n",
       "      <th></th>\n",
       "    </tr>\n",
       "  </thead>\n",
       "  <tbody>\n",
       "    <tr>\n",
       "      <th>free</th>\n",
       "      <td>673</td>\n",
       "      <td>21</td>\n",
       "      <td>26</td>\n",
       "      <td>57</td>\n",
       "      <td>119</td>\n",
       "      <td>216</td>\n",
       "      <td>374</td>\n",
       "      <td>850</td>\n",
       "      <td>1465</td>\n",
       "      <td>255</td>\n",
       "    </tr>\n",
       "    <tr>\n",
       "      <th>paid</th>\n",
       "      <td>256</td>\n",
       "      <td>23</td>\n",
       "      <td>30</td>\n",
       "      <td>49</td>\n",
       "      <td>77</td>\n",
       "      <td>167</td>\n",
       "      <td>328</td>\n",
       "      <td>776</td>\n",
       "      <td>1198</td>\n",
       "      <td>237</td>\n",
       "    </tr>\n",
       "  </tbody>\n",
       "</table>\n",
       "</div>"
      ],
      "text/plain": [
       "user_rating  0.0  1.0  1.5  2.0  2.5  3.0  3.5  4.0   4.5  5.0\n",
       "paid                                                          \n",
       "free         673   21   26   57  119  216  374  850  1465  255\n",
       "paid         256   23   30   49   77  167  328  776  1198  237"
      ]
     },
     "execution_count": 26,
     "metadata": {},
     "output_type": "execute_result"
    }
   ],
   "source": [
    "apps.groupby(['paid','user_rating']).size().unstack()"
   ]
  },
  {
   "cell_type": "code",
   "execution_count": 27,
   "metadata": {},
   "outputs": [
    {
     "data": {
      "text/plain": [
       "<matplotlib.legend.Legend at 0x1a2534fd68>"
      ]
     },
     "execution_count": 27,
     "metadata": {},
     "output_type": "execute_result"
    },
    {
     "data": {
      "image/png": "[encoded data removed]",
      "text/plain": [
       "<Figure size 432x288 with 1 Axes>"
      ]
     },
     "metadata": {
      "needs_background": "light"
     },
     "output_type": "display_data"
    }
   ],
   "source": [
    "# histograms of user ratings, in absolute numbers\n",
    "plt.hist([paid_apps.user_rating,free_apps.user_rating],color=['b','r'], alpha=0.5, label=['paid','free'], bins=11)\n",
    "plt.legend()"
   ]
  },
  {
   "cell_type": "code",
   "execution_count": 28,
   "metadata": {},
   "outputs": [
    {
     "data": {
      "text/plain": [
       "<matplotlib.legend.Legend at 0x1a24558cc0>"
      ]
     },
     "execution_count": 28,
     "metadata": {},
     "output_type": "execute_result"
    },
    {
     "data": {
      "image/png": "[encoded data removed]",
      "text/plain": [
       "<Figure size 432x288 with 1 Axes>"
      ]
     },
     "metadata": {
      "needs_background": "light"
     },
     "output_type": "display_data"
    }
   ],
   "source": [
    "seaborn.distplot( paid_apps.user_rating , color=\"skyblue\", label=\"paid apps\")\n",
    "seaborn.distplot( free_apps.user_rating , color=\"red\", label=\"free apps\")\n",
    "plt.legend()"
   ]
  },
  {
   "cell_type": "code",
   "execution_count": 29,
   "metadata": {},
   "outputs": [
    {
     "data": {
      "text/plain": [
       "<seaborn.axisgrid.FacetGrid at 0x1a24dbc9e8>"
      ]
     },
     "execution_count": 29,
     "metadata": {},
     "output_type": "execute_result"
    },
    {
     "data": {
      "image/png": "[encoded data removed]",
      "text/plain": [
       "<Figure size 417.625x360 with 1 Axes>"
      ]
     },
     "metadata": {
      "needs_background": "light"
     },
     "output_type": "display_data"
    }
   ],
   "source": [
    "# compare rating distribution for paid and free apps in different genre\n",
    "seaborn.catplot(x = 'user_rating',y=\"prime_genre\", hue=\"paid\", kind=\"box\", data=apps, palette=\"pastel\")"
   ]
  },
  {
   "cell_type": "markdown",
   "metadata": {},
   "source": [
    "### 4.2 What about the prices for paid apps ?"
   ]
  },
  {
   "cell_type": "code",
   "execution_count": 30,
   "metadata": {},
   "outputs": [
    {
     "data": {
      "text/plain": [
       "count    3141.000000\n",
       "mean        3.955298\n",
       "std         8.315882\n",
       "min         0.990000\n",
       "25%         1.990000\n",
       "50%         2.990000\n",
       "75%         4.990000\n",
       "max       299.990000\n",
       "Name: price, dtype: float64"
      ]
     },
     "execution_count": 30,
     "metadata": {},
     "output_type": "execute_result"
    }
   ],
   "source": [
    "# Check statistics for paid app price, most expensive app is priced at $300 ?\n",
    "paid_apps.price.describe()"
   ]
  },
  {
   "cell_type": "code",
   "execution_count": 31,
   "metadata": {},
   "outputs": [
    {
     "data": {
      "text/html": [
       "<div>\n",
       "<style scoped>\n",
       "    .dataframe tbody tr th:only-of-type {\n",
       "        vertical-align: middle;\n",
       "    }\n",
       "\n",
       "    .dataframe tbody tr th {\n",
       "        vertical-align: top;\n",
       "    }\n",
       "\n",
       "    .dataframe thead th {\n",
       "        text-align: right;\n",
       "    }\n",
       "</style>\n",
       "<table border=\"1\" class=\"dataframe\">\n",
       "  <thead>\n",
       "    <tr style=\"text-align: right;\">\n",
       "      <th></th>\n",
       "      <th>track_name</th>\n",
       "      <th>prime_genre</th>\n",
       "      <th>rating_count_tot</th>\n",
       "      <th>user_rating</th>\n",
       "      <th>price</th>\n",
       "    </tr>\n",
       "  </thead>\n",
       "  <tbody>\n",
       "    <tr>\n",
       "      <th>1479</th>\n",
       "      <td>LAMP Words For Life</td>\n",
       "      <td>Education</td>\n",
       "      <td>41</td>\n",
       "      <td>4.0</td>\n",
       "      <td>299.99</td>\n",
       "    </tr>\n",
       "    <tr>\n",
       "      <th>115</th>\n",
       "      <td>Proloquo2Go - Symbol-based AAC</td>\n",
       "      <td>Education</td>\n",
       "      <td>773</td>\n",
       "      <td>4.0</td>\n",
       "      <td>249.99</td>\n",
       "    </tr>\n",
       "    <tr>\n",
       "      <th>2568</th>\n",
       "      <td>KNFB Reader</td>\n",
       "      <td>Productivity</td>\n",
       "      <td>71</td>\n",
       "      <td>4.5</td>\n",
       "      <td>99.99</td>\n",
       "    </tr>\n",
       "    <tr>\n",
       "      <th>162</th>\n",
       "      <td>NAVIGON Europe</td>\n",
       "      <td>Navigation</td>\n",
       "      <td>927</td>\n",
       "      <td>3.5</td>\n",
       "      <td>74.99</td>\n",
       "    </tr>\n",
       "    <tr>\n",
       "      <th>1136</th>\n",
       "      <td>Articulation Station Pro</td>\n",
       "      <td>Education</td>\n",
       "      <td>294</td>\n",
       "      <td>4.5</td>\n",
       "      <td>59.99</td>\n",
       "    </tr>\n",
       "    <tr>\n",
       "      <th>2181</th>\n",
       "      <td>Articulation Test Center Pro</td>\n",
       "      <td>Education</td>\n",
       "      <td>29</td>\n",
       "      <td>4.5</td>\n",
       "      <td>59.99</td>\n",
       "    </tr>\n",
       "    <tr>\n",
       "      <th>3238</th>\n",
       "      <td>FineScanner Pro - PDF Document Scanner App + OCR</td>\n",
       "      <td>Business</td>\n",
       "      <td>100</td>\n",
       "      <td>4.0</td>\n",
       "      <td>59.99</td>\n",
       "    </tr>\n",
       "    <tr>\n",
       "      <th>1688</th>\n",
       "      <td>Cubasis 2 - Mobile Music Creation System</td>\n",
       "      <td>Music</td>\n",
       "      <td>297</td>\n",
       "      <td>4.0</td>\n",
       "      <td>49.99</td>\n",
       "    </tr>\n",
       "    <tr>\n",
       "      <th>5340</th>\n",
       "      <td>VPN Pro | Lifetime Proxy &amp; Best VPN by Betternet</td>\n",
       "      <td>Business</td>\n",
       "      <td>207</td>\n",
       "      <td>4.5</td>\n",
       "      <td>49.99</td>\n",
       "    </tr>\n",
       "    <tr>\n",
       "      <th>778</th>\n",
       "      <td>プチ・ロワイヤル仏和辞典（第4版）・和仏辞典（第3版）</td>\n",
       "      <td>Reference</td>\n",
       "      <td>0</td>\n",
       "      <td>0.0</td>\n",
       "      <td>47.99</td>\n",
       "    </tr>\n",
       "  </tbody>\n",
       "</table>\n",
       "</div>"
      ],
      "text/plain": [
       "                                            track_name   prime_genre  \\\n",
       "1479                               LAMP Words For Life     Education   \n",
       "115                     Proloquo2Go - Symbol-based AAC     Education   \n",
       "2568                                       KNFB Reader  Productivity   \n",
       "162                                     NAVIGON Europe    Navigation   \n",
       "1136                          Articulation Station Pro     Education   \n",
       "2181                      Articulation Test Center Pro     Education   \n",
       "3238  FineScanner Pro - PDF Document Scanner App + OCR      Business   \n",
       "1688          Cubasis 2 - Mobile Music Creation System         Music   \n",
       "5340  VPN Pro | Lifetime Proxy & Best VPN by Betternet      Business   \n",
       "778                        プチ・ロワイヤル仏和辞典（第4版）・和仏辞典（第3版）     Reference   \n",
       "\n",
       "      rating_count_tot  user_rating   price  \n",
       "1479                41          4.0  299.99  \n",
       "115                773          4.0  249.99  \n",
       "2568                71          4.5   99.99  \n",
       "162                927          3.5   74.99  \n",
       "1136               294          4.5   59.99  \n",
       "2181                29          4.5   59.99  \n",
       "3238               100          4.0   59.99  \n",
       "1688               297          4.0   49.99  \n",
       "5340               207          4.5   49.99  \n",
       "778                  0          0.0   47.99  "
      ]
     },
     "execution_count": 31,
     "metadata": {},
     "output_type": "execute_result"
    }
   ],
   "source": [
    "# apps with highest listed price, most are in education and business categories.\n",
    "expensive_apps = paid_apps.nlargest(10, 'price')[['track_name','prime_genre','rating_count_tot',\"user_rating\",'price']]\n",
    "expensive_apps"
   ]
  },
  {
   "cell_type": "code",
   "execution_count": 32,
   "metadata": {},
   "outputs": [
    {
     "data": {
      "text/plain": [
       "<matplotlib.axes._subplots.AxesSubplot at 0x1a256940f0>"
      ]
     },
     "execution_count": 32,
     "metadata": {},
     "output_type": "execute_result"
    },
    {
     "data": {
      "image/png": "[encoded data removed]",
      "text/plain": [
       "<Figure size 432x288 with 1 Axes>"
      ]
     },
     "metadata": {
      "needs_background": "light"
     },
     "output_type": "display_data"
    }
   ],
   "source": [
    "# price distirbutions for paid apps, notice that a couple of apps are far pricer than others, \n",
    "seaborn.boxplot(y='prime_genre', x ='price', data= paid_apps)"
   ]
  },
  {
   "cell_type": "code",
   "execution_count": 42,
   "metadata": {},
   "outputs": [
    {
     "data": {
      "text/plain": [
       "(10, 17)"
      ]
     },
     "execution_count": 42,
     "metadata": {},
     "output_type": "execute_result"
    }
   ],
   "source": [
    "# check how many observations we removed from the plot if set a cut-off at $45\n",
    "paid_apps[paid_apps.price > 45].shape"
   ]
  },
  {
   "cell_type": "code",
   "execution_count": 33,
   "metadata": {},
   "outputs": [
    {
     "data": {
      "text/plain": [
       "<matplotlib.axes._subplots.AxesSubplot at 0x1a259c6780>"
      ]
     },
     "execution_count": 33,
     "metadata": {},
     "output_type": "execute_result"
    },
    {
     "data": {
      "image/png": "[encoded data removed]",
      "text/plain": [
       "<Figure size 432x288 with 1 Axes>"
      ]
     },
     "metadata": {
      "needs_background": "light"
     },
     "output_type": "display_data"
    }
   ],
   "source": [
    "# set a cut-off price value at 45 to check the detailed distributions for each genre, will remove 10 observations\n",
    "# interesting is that social networking apps are less pricier while medical apps have higher mean price\n",
    "seaborn.boxplot(y='prime_genre', x ='price', data= paid_apps[paid_apps.price<=45])"
   ]
  },
  {
   "cell_type": "markdown",
   "metadata": {},
   "source": [
    "### 4.3 Popuplar paid apps"
   ]
  },
  {
   "cell_type": "code",
   "execution_count": 34,
   "metadata": {},
   "outputs": [
    {
     "data": {
      "text/html": [
       "<div>\n",
       "<style scoped>\n",
       "    .dataframe tbody tr th:only-of-type {\n",
       "        vertical-align: middle;\n",
       "    }\n",
       "\n",
       "    .dataframe tbody tr th {\n",
       "        vertical-align: top;\n",
       "    }\n",
       "\n",
       "    .dataframe thead th {\n",
       "        text-align: right;\n",
       "    }\n",
       "</style>\n",
       "<table border=\"1\" class=\"dataframe\">\n",
       "  <thead>\n",
       "    <tr style=\"text-align: right;\">\n",
       "      <th></th>\n",
       "      <th>track_name</th>\n",
       "      <th>prime_genre</th>\n",
       "      <th>rating_count_tot</th>\n",
       "      <th>user_rating</th>\n",
       "      <th>price</th>\n",
       "    </tr>\n",
       "  </thead>\n",
       "  <tbody>\n",
       "    <tr>\n",
       "      <th>348</th>\n",
       "      <td>Fruit Ninja Classic</td>\n",
       "      <td>Games</td>\n",
       "      <td>698516</td>\n",
       "      <td>4.5</td>\n",
       "      <td>1.99</td>\n",
       "    </tr>\n",
       "    <tr>\n",
       "      <th>1182</th>\n",
       "      <td>Clear Vision (17+)</td>\n",
       "      <td>Games</td>\n",
       "      <td>541693</td>\n",
       "      <td>4.5</td>\n",
       "      <td>0.99</td>\n",
       "    </tr>\n",
       "    <tr>\n",
       "      <th>1052</th>\n",
       "      <td>Minecraft: Pocket Edition</td>\n",
       "      <td>Games</td>\n",
       "      <td>522012</td>\n",
       "      <td>4.5</td>\n",
       "      <td>6.99</td>\n",
       "    </tr>\n",
       "    <tr>\n",
       "      <th>302</th>\n",
       "      <td>Plants vs. Zombies</td>\n",
       "      <td>Games</td>\n",
       "      <td>426463</td>\n",
       "      <td>5.0</td>\n",
       "      <td>0.99</td>\n",
       "    </tr>\n",
       "    <tr>\n",
       "      <th>109</th>\n",
       "      <td>Doodle Jump</td>\n",
       "      <td>Games</td>\n",
       "      <td>395261</td>\n",
       "      <td>4.5</td>\n",
       "      <td>0.99</td>\n",
       "    </tr>\n",
       "    <tr>\n",
       "      <th>1114</th>\n",
       "      <td>Draw Something</td>\n",
       "      <td>Games</td>\n",
       "      <td>360974</td>\n",
       "      <td>4.5</td>\n",
       "      <td>2.99</td>\n",
       "    </tr>\n",
       "    <tr>\n",
       "      <th>498</th>\n",
       "      <td>Infinity Blade</td>\n",
       "      <td>Games</td>\n",
       "      <td>326482</td>\n",
       "      <td>5.0</td>\n",
       "      <td>0.99</td>\n",
       "    </tr>\n",
       "    <tr>\n",
       "      <th>1877</th>\n",
       "      <td>Geometry Dash</td>\n",
       "      <td>Games</td>\n",
       "      <td>266440</td>\n",
       "      <td>5.0</td>\n",
       "      <td>1.99</td>\n",
       "    </tr>\n",
       "    <tr>\n",
       "      <th>698</th>\n",
       "      <td>Tiny Wings</td>\n",
       "      <td>Games</td>\n",
       "      <td>219418</td>\n",
       "      <td>4.5</td>\n",
       "      <td>0.99</td>\n",
       "    </tr>\n",
       "    <tr>\n",
       "      <th>171</th>\n",
       "      <td>Traffic Rush</td>\n",
       "      <td>Games</td>\n",
       "      <td>213092</td>\n",
       "      <td>3.5</td>\n",
       "      <td>0.99</td>\n",
       "    </tr>\n",
       "  </tbody>\n",
       "</table>\n",
       "</div>"
      ],
      "text/plain": [
       "                     track_name prime_genre  rating_count_tot  user_rating  \\\n",
       "348         Fruit Ninja Classic       Games            698516          4.5   \n",
       "1182         Clear Vision (17+)       Games            541693          4.5   \n",
       "1052  Minecraft: Pocket Edition       Games            522012          4.5   \n",
       "302          Plants vs. Zombies       Games            426463          5.0   \n",
       "109                 Doodle Jump       Games            395261          4.5   \n",
       "1114             Draw Something       Games            360974          4.5   \n",
       "498              Infinity Blade       Games            326482          5.0   \n",
       "1877              Geometry Dash       Games            266440          5.0   \n",
       "698                  Tiny Wings       Games            219418          4.5   \n",
       "171                Traffic Rush       Games            213092          3.5   \n",
       "\n",
       "      price  \n",
       "348    1.99  \n",
       "1182   0.99  \n",
       "1052   6.99  \n",
       "302    0.99  \n",
       "109    0.99  \n",
       "1114   2.99  \n",
       "498    0.99  \n",
       "1877   1.99  \n",
       "698    0.99  \n",
       "171    0.99  "
      ]
     },
     "execution_count": 34,
     "metadata": {},
     "output_type": "execute_result"
    }
   ],
   "source": [
    "# popular paid apps, interesting finding here is ALL the top paid apps are GAMES!!\n",
    "top_10_paid_apps = paid_apps.nlargest(10, 'rating_count_tot')[['track_name','prime_genre','rating_count_tot',\"user_rating\",'price']]\n",
    "top_10_paid_apps"
   ]
  },
  {
   "cell_type": "markdown",
   "metadata": {},
   "source": [
    "## 5. Game apps"
   ]
  },
  {
   "cell_type": "code",
   "execution_count": 35,
   "metadata": {},
   "outputs": [],
   "source": [
    "game_apps = apps[apps.prime_genre=='Games']"
   ]
  },
  {
   "cell_type": "code",
   "execution_count": 36,
   "metadata": {},
   "outputs": [
    {
     "data": {
      "text/html": [
       "<div>\n",
       "<style scoped>\n",
       "    .dataframe tbody tr th:only-of-type {\n",
       "        vertical-align: middle;\n",
       "    }\n",
       "\n",
       "    .dataframe tbody tr th {\n",
       "        vertical-align: top;\n",
       "    }\n",
       "\n",
       "    .dataframe thead th {\n",
       "        text-align: right;\n",
       "    }\n",
       "</style>\n",
       "<table border=\"1\" class=\"dataframe\">\n",
       "  <thead>\n",
       "    <tr style=\"text-align: right;\">\n",
       "      <th></th>\n",
       "      <th>count</th>\n",
       "      <th>mean</th>\n",
       "      <th>std</th>\n",
       "      <th>min</th>\n",
       "      <th>25%</th>\n",
       "      <th>50%</th>\n",
       "      <th>75%</th>\n",
       "      <th>max</th>\n",
       "    </tr>\n",
       "    <tr>\n",
       "      <th>paid</th>\n",
       "      <th></th>\n",
       "      <th></th>\n",
       "      <th></th>\n",
       "      <th></th>\n",
       "      <th></th>\n",
       "      <th></th>\n",
       "      <th></th>\n",
       "      <th></th>\n",
       "    </tr>\n",
       "  </thead>\n",
       "  <tbody>\n",
       "    <tr>\n",
       "      <th>free</th>\n",
       "      <td>2257.0</td>\n",
       "      <td>3.528578</td>\n",
       "      <td>1.637453</td>\n",
       "      <td>0.0</td>\n",
       "      <td>3.5</td>\n",
       "      <td>4.0</td>\n",
       "      <td>4.5</td>\n",
       "      <td>5.0</td>\n",
       "    </tr>\n",
       "    <tr>\n",
       "      <th>paid</th>\n",
       "      <td>1605.0</td>\n",
       "      <td>3.904984</td>\n",
       "      <td>1.155266</td>\n",
       "      <td>0.0</td>\n",
       "      <td>4.0</td>\n",
       "      <td>4.5</td>\n",
       "      <td>4.5</td>\n",
       "      <td>5.0</td>\n",
       "    </tr>\n",
       "  </tbody>\n",
       "</table>\n",
       "</div>"
      ],
      "text/plain": [
       "       count      mean       std  min  25%  50%  75%  max\n",
       "paid                                                     \n",
       "free  2257.0  3.528578  1.637453  0.0  3.5  4.0  4.5  5.0\n",
       "paid  1605.0  3.904984  1.155266  0.0  4.0  4.5  4.5  5.0"
      ]
     },
     "execution_count": 36,
     "metadata": {},
     "output_type": "execute_result"
    }
   ],
   "source": [
    "game_apps.groupby('paid')['user_rating'].describe()"
   ]
  },
  {
   "cell_type": "code",
   "execution_count": 37,
   "metadata": {},
   "outputs": [
    {
     "data": {
      "text/html": [
       "<div>\n",
       "<style scoped>\n",
       "    .dataframe tbody tr th:only-of-type {\n",
       "        vertical-align: middle;\n",
       "    }\n",
       "\n",
       "    .dataframe tbody tr th {\n",
       "        vertical-align: top;\n",
       "    }\n",
       "\n",
       "    .dataframe thead th {\n",
       "        text-align: right;\n",
       "    }\n",
       "</style>\n",
       "<table border=\"1\" class=\"dataframe\">\n",
       "  <thead>\n",
       "    <tr style=\"text-align: right;\">\n",
       "      <th></th>\n",
       "      <th>track_name</th>\n",
       "      <th>prime_genre</th>\n",
       "      <th>rating_count_tot</th>\n",
       "      <th>user_rating</th>\n",
       "      <th>price</th>\n",
       "    </tr>\n",
       "  </thead>\n",
       "  <tbody>\n",
       "    <tr>\n",
       "      <th>1346</th>\n",
       "      <td>Clash of Clans</td>\n",
       "      <td>Games</td>\n",
       "      <td>2130805</td>\n",
       "      <td>4.5</td>\n",
       "      <td>0.0</td>\n",
       "    </tr>\n",
       "    <tr>\n",
       "      <th>707</th>\n",
       "      <td>Temple Run</td>\n",
       "      <td>Games</td>\n",
       "      <td>1724546</td>\n",
       "      <td>4.5</td>\n",
       "      <td>0.0</td>\n",
       "    </tr>\n",
       "    <tr>\n",
       "      <th>1493</th>\n",
       "      <td>Candy Crush Saga</td>\n",
       "      <td>Games</td>\n",
       "      <td>961794</td>\n",
       "      <td>4.5</td>\n",
       "      <td>0.0</td>\n",
       "    </tr>\n",
       "    <tr>\n",
       "      <th>275</th>\n",
       "      <td>Angry Birds</td>\n",
       "      <td>Games</td>\n",
       "      <td>824451</td>\n",
       "      <td>4.5</td>\n",
       "      <td>0.0</td>\n",
       "    </tr>\n",
       "    <tr>\n",
       "      <th>1246</th>\n",
       "      <td>Subway Surfers</td>\n",
       "      <td>Games</td>\n",
       "      <td>706110</td>\n",
       "      <td>4.5</td>\n",
       "      <td>0.0</td>\n",
       "    </tr>\n",
       "    <tr>\n",
       "      <th>343</th>\n",
       "      <td>Solitaire</td>\n",
       "      <td>Games</td>\n",
       "      <td>679055</td>\n",
       "      <td>4.5</td>\n",
       "      <td>0.0</td>\n",
       "    </tr>\n",
       "    <tr>\n",
       "      <th>990</th>\n",
       "      <td>CSR Racing</td>\n",
       "      <td>Games</td>\n",
       "      <td>677247</td>\n",
       "      <td>4.5</td>\n",
       "      <td>0.0</td>\n",
       "    </tr>\n",
       "    <tr>\n",
       "      <th>3042</th>\n",
       "      <td>Crossy Road - Endless Arcade Hopper</td>\n",
       "      <td>Games</td>\n",
       "      <td>669079</td>\n",
       "      <td>4.5</td>\n",
       "      <td>0.0</td>\n",
       "    </tr>\n",
       "    <tr>\n",
       "      <th>1634</th>\n",
       "      <td>Injustice: Gods Among Us</td>\n",
       "      <td>Games</td>\n",
       "      <td>612532</td>\n",
       "      <td>4.5</td>\n",
       "      <td>0.0</td>\n",
       "    </tr>\n",
       "    <tr>\n",
       "      <th>1218</th>\n",
       "      <td>Hay Day</td>\n",
       "      <td>Games</td>\n",
       "      <td>567344</td>\n",
       "      <td>4.5</td>\n",
       "      <td>0.0</td>\n",
       "    </tr>\n",
       "  </tbody>\n",
       "</table>\n",
       "</div>"
      ],
      "text/plain": [
       "                               track_name prime_genre  rating_count_tot  \\\n",
       "1346                       Clash of Clans       Games           2130805   \n",
       "707                            Temple Run       Games           1724546   \n",
       "1493                     Candy Crush Saga       Games            961794   \n",
       "275                           Angry Birds       Games            824451   \n",
       "1246                       Subway Surfers       Games            706110   \n",
       "343                             Solitaire       Games            679055   \n",
       "990                            CSR Racing       Games            677247   \n",
       "3042  Crossy Road - Endless Arcade Hopper       Games            669079   \n",
       "1634             Injustice: Gods Among Us       Games            612532   \n",
       "1218                              Hay Day       Games            567344   \n",
       "\n",
       "      user_rating  price  \n",
       "1346          4.5    0.0  \n",
       "707           4.5    0.0  \n",
       "1493          4.5    0.0  \n",
       "275           4.5    0.0  \n",
       "1246          4.5    0.0  \n",
       "343           4.5    0.0  \n",
       "990           4.5    0.0  \n",
       "3042          4.5    0.0  \n",
       "1634          4.5    0.0  \n",
       "1218          4.5    0.0  "
      ]
     },
     "execution_count": 37,
     "metadata": {},
     "output_type": "execute_result"
    }
   ],
   "source": [
    "# top 10 free games\n",
    "top_10_free_games = game_apps[game_apps.price==0].nlargest(10, 'rating_count_tot')[['track_name','prime_genre','rating_count_tot',\"user_rating\",'price']]\n",
    "top_10_free_games"
   ]
  },
  {
   "cell_type": "code",
   "execution_count": 38,
   "metadata": {},
   "outputs": [
    {
     "data": {
      "text/plain": [
       "<matplotlib.axes._subplots.AxesSubplot at 0x1a25c69828>"
      ]
     },
     "execution_count": 38,
     "metadata": {},
     "output_type": "execute_result"
    },
    {
     "data": {
      "image/png": "[encoded data removed]",
      "text/plain": [
       "<Figure size 432x288 with 1 Axes>"
      ]
     },
     "metadata": {
      "needs_background": "light"
     },
     "output_type": "display_data"
    }
   ],
   "source": [
    "seaborn.distplot(game_apps.price, kde=False,bins=100)"
   ]
  },
  {
   "cell_type": "code",
   "execution_count": 39,
   "metadata": {},
   "outputs": [
    {
     "data": {
      "text/plain": [
       "<matplotlib.axes._subplots.AxesSubplot at 0x1a25e54748>"
      ]
     },
     "execution_count": 39,
     "metadata": {},
     "output_type": "execute_result"
    },
    {
     "data": {
      "image/png": "[encoded data removed]",
      "text/plain": [
       "<Figure size 432x288 with 1 Axes>"
      ]
     },
     "metadata": {
      "needs_background": "light"
     },
     "output_type": "display_data"
    }
   ],
   "source": [
    "seaborn.distplot(game_apps.size_bytes, kde=False,bins=100)"
   ]
  },
  {
   "cell_type": "markdown",
   "metadata": {},
   "source": [
    "## 6.  App Descriptions"
   ]
  },
  {
   "cell_type": "code",
   "execution_count": 40,
   "metadata": {},
   "outputs": [],
   "source": [
    "desc = pandas.read_csv('appleStore_description.csv')"
   ]
  },
  {
   "cell_type": "code",
   "execution_count": 41,
   "metadata": {},
   "outputs": [
    {
     "data": {
      "text/html": [
       "<div>\n",
       "<style scoped>\n",
       "    .dataframe tbody tr th:only-of-type {\n",
       "        vertical-align: middle;\n",
       "    }\n",
       "\n",
       "    .dataframe tbody tr th {\n",
       "        vertical-align: top;\n",
       "    }\n",
       "\n",
       "    .dataframe thead th {\n",
       "        text-align: right;\n",
       "    }\n",
       "</style>\n",
       "<table border=\"1\" class=\"dataframe\">\n",
       "  <thead>\n",
       "    <tr style=\"text-align: right;\">\n",
       "      <th></th>\n",
       "      <th>id</th>\n",
       "      <th>track_name</th>\n",
       "      <th>size_bytes</th>\n",
       "      <th>app_desc</th>\n",
       "    </tr>\n",
       "  </thead>\n",
       "  <tbody>\n",
       "    <tr>\n",
       "      <th>0</th>\n",
       "      <td>281656475</td>\n",
       "      <td>PAC-MAN Premium</td>\n",
       "      <td>100788224</td>\n",
       "      <td>SAVE 20%, now only $3.99 for a limited time!\\n...</td>\n",
       "    </tr>\n",
       "    <tr>\n",
       "      <th>1</th>\n",
       "      <td>281796108</td>\n",
       "      <td>Evernote - stay organized</td>\n",
       "      <td>158578688</td>\n",
       "      <td>Let Evernote change the way you organize your ...</td>\n",
       "    </tr>\n",
       "    <tr>\n",
       "      <th>2</th>\n",
       "      <td>281940292</td>\n",
       "      <td>WeatherBug - Local Weather, Radar, Maps, Alerts</td>\n",
       "      <td>100524032</td>\n",
       "      <td>Download the most popular free weather app pow...</td>\n",
       "    </tr>\n",
       "    <tr>\n",
       "      <th>3</th>\n",
       "      <td>282614216</td>\n",
       "      <td>eBay: Best App to Buy, Sell, Save! Online Shop...</td>\n",
       "      <td>128512000</td>\n",
       "      <td>The eBay app is the best way to find anything ...</td>\n",
       "    </tr>\n",
       "    <tr>\n",
       "      <th>4</th>\n",
       "      <td>282935706</td>\n",
       "      <td>Bible</td>\n",
       "      <td>92774400</td>\n",
       "      <td>On more than 250 million devices around the wo...</td>\n",
       "    </tr>\n",
       "  </tbody>\n",
       "</table>\n",
       "</div>"
      ],
      "text/plain": [
       "          id                                         track_name  size_bytes  \\\n",
       "0  281656475                                    PAC-MAN Premium   100788224   \n",
       "1  281796108                          Evernote - stay organized   158578688   \n",
       "2  281940292    WeatherBug - Local Weather, Radar, Maps, Alerts   100524032   \n",
       "3  282614216  eBay: Best App to Buy, Sell, Save! Online Shop...   128512000   \n",
       "4  282935706                                              Bible    92774400   \n",
       "\n",
       "                                            app_desc  \n",
       "0  SAVE 20%, now only $3.99 for a limited time!\\n...  \n",
       "1  Let Evernote change the way you organize your ...  \n",
       "2  Download the most popular free weather app pow...  \n",
       "3  The eBay app is the best way to find anything ...  \n",
       "4  On more than 250 million devices around the wo...  "
      ]
     },
     "execution_count": 41,
     "metadata": {},
     "output_type": "execute_result"
    }
   ],
   "source": [
    "desc.head()"
   ]
  },
  {
   "cell_type": "code",
   "execution_count": null,
   "metadata": {},
   "outputs": [],
   "source": []
  }
 ],
 "metadata": {
  "kernelspec": {
   "display_name": "Python 3",
   "language": "python",
   "name": "python3"
  },
  "language_info": {
   "codemirror_mode": {
    "name": "ipython",
    "version": 3
   },
   "file_extension": ".py",
   "mimetype": "text/x-python",
   "name": "python",
   "nbconvert_exporter": "python",
   "pygments_lexer": "ipython3",
   "version": "3.7.2"
  }
 },
 "nbformat": 4,
 "nbformat_minor": 2
}
