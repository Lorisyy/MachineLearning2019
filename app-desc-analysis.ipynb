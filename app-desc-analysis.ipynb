{
 "cells": [
  {
   "cell_type": "code",
   "execution_count": null,
   "metadata": {
    "collapsed": true
   },
   "outputs": [],
   "source": [
    "'''\n",
    "本ipynb文件旨在熟悉下阅读器pandas库，nltk自然语言处理库等库的使用\n",
    "'''"
   ]
  },
  {
   "cell_type": "markdown",
   "metadata": {},
   "source": [
    "## *开始的一些基本操作*"
   ]
  },
  {
   "cell_type": "code",
   "execution_count": 6,
   "metadata": {
    "collapsed": true
   },
   "outputs": [],
   "source": [
    "import pandas"
   ]
  },
  {
   "cell_type": "code",
   "execution_count": 5,
   "metadata": {
    "collapsed": true
   },
   "outputs": [],
   "source": [
    "import nltk#自然语言处理库"
   ]
  },
  {
   "cell_type": "code",
   "execution_count": 3,
   "metadata": {
    "collapsed": true
   },
   "outputs": [],
   "source": [
    "import string"
   ]
  },
  {
   "cell_type": "code",
   "execution_count": 2,
   "metadata": {
    "collapsed": true
   },
   "outputs": [],
   "source": [
    "import re"
   ]
  },
  {
   "cell_type": "code",
   "execution_count": 7,
   "metadata": {
    "collapsed": true
   },
   "outputs": [],
   "source": [
    "desc = pandas.read_csv('appleStore_description.csv')#读取csv格式的表格在desc"
   ]
  },
  {
   "cell_type": "code",
   "execution_count": 9,
   "metadata": {
    "collapsed": false
   },
   "outputs": [
    {
     "data": {
      "text/html": [
       "<div>\n",
       "<style scoped>\n",
       "    .dataframe tbody tr th:only-of-type {\n",
       "        vertical-align: middle;\n",
       "    }\n",
       "\n",
       "    .dataframe tbody tr th {\n",
       "        vertical-align: top;\n",
       "    }\n",
       "\n",
       "    .dataframe thead th {\n",
       "        text-align: right;\n",
       "    }\n",
       "</style>\n",
       "<table border=\"1\" class=\"dataframe\">\n",
       "  <thead>\n",
       "    <tr style=\"text-align: right;\">\n",
       "      <th></th>\n",
       "      <th>id</th>\n",
       "      <th>track_name</th>\n",
       "      <th>size_bytes</th>\n",
       "      <th>app_desc</th>\n",
       "    </tr>\n",
       "  </thead>\n",
       "  <tbody>\n",
       "    <tr>\n",
       "      <th>0</th>\n",
       "      <td>281656475</td>\n",
       "      <td>PAC-MAN Premium</td>\n",
       "      <td>100788224</td>\n",
       "      <td>SAVE 20%, now only $3.99 for a limited time!\\n...</td>\n",
       "    </tr>\n",
       "    <tr>\n",
       "      <th>1</th>\n",
       "      <td>281796108</td>\n",
       "      <td>Evernote - stay organized</td>\n",
       "      <td>158578688</td>\n",
       "      <td>Let Evernote change the way you organize your ...</td>\n",
       "    </tr>\n",
       "    <tr>\n",
       "      <th>2</th>\n",
       "      <td>281940292</td>\n",
       "      <td>WeatherBug - Local Weather, Radar, Maps, Alerts</td>\n",
       "      <td>100524032</td>\n",
       "      <td>Download the most popular free weather app pow...</td>\n",
       "    </tr>\n",
       "    <tr>\n",
       "      <th>3</th>\n",
       "      <td>282614216</td>\n",
       "      <td>eBay: Best App to Buy, Sell, Save! Online Shop...</td>\n",
       "      <td>128512000</td>\n",
       "      <td>The eBay app is the best way to find anything ...</td>\n",
       "    </tr>\n",
       "    <tr>\n",
       "      <th>4</th>\n",
       "      <td>282935706</td>\n",
       "      <td>Bible</td>\n",
       "      <td>92774400</td>\n",
       "      <td>On more than 250 million devices around the wo...</td>\n",
       "    </tr>\n",
       "  </tbody>\n",
       "</table>\n",
       "</div>"
      ],
      "text/plain": [
       "          id                                         track_name  size_bytes  \\\n",
       "0  281656475                                    PAC-MAN Premium   100788224   \n",
       "1  281796108                          Evernote - stay organized   158578688   \n",
       "2  281940292    WeatherBug - Local Weather, Radar, Maps, Alerts   100524032   \n",
       "3  282614216  eBay: Best App to Buy, Sell, Save! Online Shop...   128512000   \n",
       "4  282935706                                              Bible    92774400   \n",
       "\n",
       "                                            app_desc  \n",
       "0  SAVE 20%, now only $3.99 for a limited time!\\n...  \n",
       "1  Let Evernote change the way you organize your ...  \n",
       "2  Download the most popular free weather app pow...  \n",
       "3  The eBay app is the best way to find anything ...  \n",
       "4  On more than 250 million devices around the wo...  "
      ]
     },
     "execution_count": 9,
     "metadata": {},
     "output_type": "execute_result"
    }
   ],
   "source": [
    "desc.head()#显示该表格的前五行"
   ]
  },
  {
   "cell_type": "markdown",
   "metadata": {},
   "source": [
    "## *计算词语个数*"
   ]
  },
  {
   "cell_type": "code",
   "execution_count": 7,
   "metadata": {
    "collapsed": true
   },
   "outputs": [],
   "source": [
    "#将该表格的app_desc列的第0行放进mac_man_desc\n",
    "mac_man_desc = desc.app_desc[0]"
   ]
  },
  {
   "cell_type": "code",
   "execution_count": 8,
   "metadata": {
    "collapsed": false
   },
   "outputs": [
    {
     "name": "stdout",
     "output_type": "stream",
     "text": [
      "['save', 'now', 'only', 'for', 'a', 'limited', 'time', 'one', 'of', 'the', 'most', 'popular', 'video', 'games', 'in', 'arcade', 'history', 'world', 'video', 'game', 'hall', 'of', 'fame', 'inductee', 'who', 'can', 'forget', 'the', 'countless', 'hours', 'and', 'quarters', 'spent', 'outrunning', 'pesky', 'ghosts', 'and', 'chompin', 'on', 'dots', 'now', 'you', 'can', 'have', 'the', 'same', 'arcade', 'excitement', 'on', 'your', 'mobile', 'devices', 'guide', 'pac', 'man', 'through', 'the', 'mazes', 'with', 'easy', 'swipe', 'controls', 'a', 'mfi', 'controller', 'or', 'kick', 'it', 'old', 'school', 'with', 'the', 'onscreen', 'joystick', 'eat', 'all', 'of', 'the', 'dots', 'to', 'advance', 'to', 'the', 'next', 'stage', 'go', 'for', 'high', 'scores', 'and', 'higher', 'levels', 'gain', 'an', 'extra', 'life', 'at', 'points', 'gobble', 'power']\n"
     ]
    }
   ],
   "source": [
    "# 将mac_man_desc的英文单词放进mac_man_desc_words\n",
    "mac_man_desc_words = [str.lower(word) for word in re.split(r'\\W+', mac_man_desc) if word.isalpha()]\n",
    "print(mac_man_desc_words[:100])"
   ]
  },
  {
   "cell_type": "code",
   "execution_count": 9,
   "metadata": {
    "collapsed": false
   },
   "outputs": [
    {
     "data": {
      "text/plain": [
       "262"
      ]
     },
     "execution_count": 9,
     "metadata": {},
     "output_type": "execute_result"
    }
   ],
   "source": [
    "#mac_man_desc_words的长度 \n",
    "len(mac_man_desc_words)"
   ]
  },
  {
   "cell_type": "code",
   "execution_count": 10,
   "metadata": {
    "collapsed": true
   },
   "outputs": [],
   "source": [
    "#将上面的代码放在函数里\n",
    "def to_words_list(sentense):\n",
    "    return [str.lower(word) for word in re.split(r'\\W+', sentense) if word.isalpha()]"
   ]
  },
  {
   "cell_type": "code",
   "execution_count": 11,
   "metadata": {
    "collapsed": false
   },
   "outputs": [
    {
     "name": "stdout",
     "output_type": "stream",
     "text": [
      "['save', 'now', 'only', 'for', 'a', 'limited', 'time', 'one', 'of', 'the', 'most', 'popular', 'video', 'games', 'in', 'arcade', 'history', 'world', 'video', 'game', 'hall', 'of', 'fame', 'inductee', 'who', 'can', 'forget', 'the', 'countless', 'hours', 'and', 'quarters', 'spent', 'outrunning', 'pesky', 'ghosts', 'and', 'chompin', 'on', 'dots', 'now', 'you', 'can', 'have', 'the', 'same', 'arcade', 'excitement', 'on', 'your', 'mobile', 'devices', 'guide', 'pac', 'man', 'through', 'the', 'mazes', 'with', 'easy', 'swipe', 'controls', 'a', 'mfi', 'controller', 'or', 'kick', 'it', 'old', 'school', 'with', 'the', 'onscreen', 'joystick', 'eat', 'all', 'of', 'the', 'dots', 'to', 'advance', 'to', 'the', 'next', 'stage', 'go', 'for', 'high', 'scores', 'and', 'higher', 'levels', 'gain', 'an', 'extra', 'life', 'at', 'points', 'gobble', 'power', 'pellets', 'to', 'weaken', 'ghosts', 'temporarily', 'and', 'eat', 'them', 'up', 'before', 'they', 'change', 'back', 'avoid', 'blinky', 'the', 'leader', 'of', 'the', 'ghosts', 'and', 'his', 'fellow', 'ghosts', 'pinky', 'inky', 'and', 'clyde', 'or', 'you', 'will', 'lose', 'a', 'life', 'it', 's', 'game', 'over', 'when', 'you', 'lose', 'all', 'your', 'lives', 'new', 'mazes', 'included', 'the', 'game', 'includes', 'new', 'mazes', 'in', 'addition', 'to', 'the', 'pixel', 'for', 'pixel', 'recreation', 'of', 'the', 'classic', 'original', 'maze', 'challenge', 'your', 'skill', 'to', 'beat', 'them', 'all', 'we', 'are', 'constantly', 'updating', 'the', 'game', 'with', 'new', 'maze', 'packs', 'that', 'you', 'can', 'buy', 'to', 'complete', 'your', 'pac', 'man', 'collection', 'hints', 'and', 'tips', 'insider', 'pro', 'tips', 'and', 'hints', 'are', 'being', 'made', 'available', 'for', 'the', 'first', 'time', 'in', 'game', 'use', 'these', 'to', 'help', 'you', 'become', 'a', 'pac', 'man', 'champion', 'features', 'new', 'tournaments', 'new', 'visual', 'hints', 'and', 'pro', 'tips', 'new', 'mazes', 'for', 'all', 'new', 'challenges', 'play', 'an', 'arcade', 'perfect', 'port', 'of', 'classic', 'pac', 'man', 'two', 'different', 'control', 'modes', 'three', 'game', 'difficulties', 'including', 'the', 'original', 'arcade', 'game', 'retina', 'display', 'support', 'mfi', 'controller', 'support']\n"
     ]
    }
   ],
   "source": [
    "#再测试下这个函数\n",
    "print(to_words_list(desc.app_desc[0]))"
   ]
  },
  {
   "cell_type": "code",
   "execution_count": 12,
   "metadata": {
    "collapsed": true
   },
   "outputs": [],
   "source": [
    "#再对整个列表使用这个函数，将所得结果存起来，存到words_list\n",
    "desc['words_list'] = desc.app_desc.apply(lambda x: to_words_list(x))"
   ]
  },
  {
   "cell_type": "code",
   "execution_count": 13,
   "metadata": {
    "collapsed": true
   },
   "outputs": [],
   "source": [
    "#并将每一行的词数存起来，存到word_count里\n",
    "desc['word_count'] = desc.words_list.apply(lambda x: len(x))"
   ]
  },
  {
   "cell_type": "code",
   "execution_count": 14,
   "metadata": {
    "collapsed": false,
    "scrolled": true
   },
   "outputs": [
    {
     "data": {
      "text/html": [
       "<div>\n",
       "<style scoped>\n",
       "    .dataframe tbody tr th:only-of-type {\n",
       "        vertical-align: middle;\n",
       "    }\n",
       "\n",
       "    .dataframe tbody tr th {\n",
       "        vertical-align: top;\n",
       "    }\n",
       "\n",
       "    .dataframe thead th {\n",
       "        text-align: right;\n",
       "    }\n",
       "</style>\n",
       "<table border=\"1\" class=\"dataframe\">\n",
       "  <thead>\n",
       "    <tr style=\"text-align: right;\">\n",
       "      <th></th>\n",
       "      <th>app_desc</th>\n",
       "      <th>words_list</th>\n",
       "      <th>word_count</th>\n",
       "    </tr>\n",
       "  </thead>\n",
       "  <tbody>\n",
       "    <tr>\n",
       "      <th>0</th>\n",
       "      <td>SAVE 20%, now only $3.99 for a limited time!\\n...</td>\n",
       "      <td>[save, now, only, for, a, limited, time, one, ...</td>\n",
       "      <td>262</td>\n",
       "    </tr>\n",
       "    <tr>\n",
       "      <th>1</th>\n",
       "      <td>Let Evernote change the way you organize your ...</td>\n",
       "      <td>[let, evernote, change, the, way, you, organiz...</td>\n",
       "      <td>600</td>\n",
       "    </tr>\n",
       "    <tr>\n",
       "      <th>2</th>\n",
       "      <td>Download the most popular free weather app pow...</td>\n",
       "      <td>[download, the, most, popular, free, weather, ...</td>\n",
       "      <td>297</td>\n",
       "    </tr>\n",
       "    <tr>\n",
       "      <th>3</th>\n",
       "      <td>The eBay app is the best way to find anything ...</td>\n",
       "      <td>[the, ebay, app, is, the, best, way, to, find,...</td>\n",
       "      <td>662</td>\n",
       "    </tr>\n",
       "    <tr>\n",
       "      <th>4</th>\n",
       "      <td>On more than 250 million devices around the wo...</td>\n",
       "      <td>[on, more, than, million, devices, around, the...</td>\n",
       "      <td>476</td>\n",
       "    </tr>\n",
       "  </tbody>\n",
       "</table>\n",
       "</div>"
      ],
      "text/plain": [
       "                                            app_desc  \\\n",
       "0  SAVE 20%, now only $3.99 for a limited time!\\n...   \n",
       "1  Let Evernote change the way you organize your ...   \n",
       "2  Download the most popular free weather app pow...   \n",
       "3  The eBay app is the best way to find anything ...   \n",
       "4  On more than 250 million devices around the wo...   \n",
       "\n",
       "                                          words_list  word_count  \n",
       "0  [save, now, only, for, a, limited, time, one, ...         262  \n",
       "1  [let, evernote, change, the, way, you, organiz...         600  \n",
       "2  [download, the, most, popular, free, weather, ...         297  \n",
       "3  [the, ebay, app, is, the, best, way, to, find,...         662  \n",
       "4  [on, more, than, million, devices, around, the...         476  "
      ]
     },
     "execution_count": 14,
     "metadata": {},
     "output_type": "execute_result"
    }
   ],
   "source": [
    "#测试一下结果\n",
    "desc[['app_desc','words_list','word_count']].head()"
   ]
  },
  {
   "cell_type": "code",
   "execution_count": 15,
   "metadata": {
    "collapsed": false
   },
   "outputs": [
    {
     "data": {
      "text/plain": [
       "count    7197.000000\n",
       "mean      240.636932\n",
       "std       164.968363\n",
       "min         2.000000\n",
       "25%       105.000000\n",
       "50%       213.000000\n",
       "75%       346.000000\n",
       "max       728.000000\n",
       "Name: word_count, dtype: float64"
      ]
     },
     "execution_count": 15,
     "metadata": {},
     "output_type": "execute_result"
    }
   ],
   "source": [
    "# 分析下word_count里的数据\n",
    "desc.word_count.describe()"
   ]
  },
  {
   "cell_type": "markdown",
   "metadata": {},
   "source": [
    "## *计算数字的个数*"
   ]
  },
  {
   "cell_type": "code",
   "execution_count": 16,
   "metadata": {
    "collapsed": false
   },
   "outputs": [
    {
     "data": {
      "text/plain": [
       "7"
      ]
     },
     "execution_count": 16,
     "metadata": {},
     "output_type": "execute_result"
    }
   ],
   "source": [
    "#找到mac_man_desc里面所有数字\n",
    "matched = re.findall(r'\\d+\\.?\\d*', mac_man_desc)\n",
    "len(matched)"
   ]
  },
  {
   "cell_type": "code",
   "execution_count": 17,
   "metadata": {
    "collapsed": true
   },
   "outputs": [],
   "source": [
    "# 将上面操作放在函数里\n",
    "def count_digits(sentense):\n",
    "    return len(re.findall(r'\\d+\\.?\\d*', sentense))"
   ]
  },
  {
   "cell_type": "code",
   "execution_count": 18,
   "metadata": {
    "collapsed": false
   },
   "outputs": [
    {
     "data": {
      "text/plain": [
       "7"
      ]
     },
     "execution_count": 18,
     "metadata": {},
     "output_type": "execute_result"
    }
   ],
   "source": [
    "count_digits(mac_man_desc)"
   ]
  },
  {
   "cell_type": "code",
   "execution_count": 19,
   "metadata": {
    "collapsed": true
   },
   "outputs": [],
   "source": [
    "#并将这个函数应用到整个列表，将结果放到digit_count里\n",
    "desc['digit_count'] = desc.app_desc.apply(lambda x: count_digits(x))"
   ]
  },
  {
   "cell_type": "code",
   "execution_count": 20,
   "metadata": {
    "collapsed": false
   },
   "outputs": [
    {
     "data": {
      "text/html": [
       "<div>\n",
       "<style scoped>\n",
       "    .dataframe tbody tr th:only-of-type {\n",
       "        vertical-align: middle;\n",
       "    }\n",
       "\n",
       "    .dataframe tbody tr th {\n",
       "        vertical-align: top;\n",
       "    }\n",
       "\n",
       "    .dataframe thead th {\n",
       "        text-align: right;\n",
       "    }\n",
       "</style>\n",
       "<table border=\"1\" class=\"dataframe\">\n",
       "  <thead>\n",
       "    <tr style=\"text-align: right;\">\n",
       "      <th></th>\n",
       "      <th>app_desc</th>\n",
       "      <th>words_list</th>\n",
       "      <th>word_count</th>\n",
       "      <th>digit_count</th>\n",
       "    </tr>\n",
       "  </thead>\n",
       "  <tbody>\n",
       "    <tr>\n",
       "      <th>0</th>\n",
       "      <td>SAVE 20%, now only $3.99 for a limited time!\\n...</td>\n",
       "      <td>[save, now, only, for, a, limited, time, one, ...</td>\n",
       "      <td>262</td>\n",
       "      <td>7</td>\n",
       "    </tr>\n",
       "    <tr>\n",
       "      <th>1</th>\n",
       "      <td>Let Evernote change the way you organize your ...</td>\n",
       "      <td>[let, evernote, change, the, way, you, organiz...</td>\n",
       "      <td>600</td>\n",
       "      <td>8</td>\n",
       "    </tr>\n",
       "    <tr>\n",
       "      <th>2</th>\n",
       "      <td>Download the most popular free weather app pow...</td>\n",
       "      <td>[download, the, most, popular, free, weather, ...</td>\n",
       "      <td>297</td>\n",
       "      <td>8</td>\n",
       "    </tr>\n",
       "    <tr>\n",
       "      <th>3</th>\n",
       "      <td>The eBay app is the best way to find anything ...</td>\n",
       "      <td>[the, ebay, app, is, the, best, way, to, find,...</td>\n",
       "      <td>662</td>\n",
       "      <td>0</td>\n",
       "    </tr>\n",
       "    <tr>\n",
       "      <th>4</th>\n",
       "      <td>On more than 250 million devices around the wo...</td>\n",
       "      <td>[on, more, than, million, devices, around, the...</td>\n",
       "      <td>476</td>\n",
       "      <td>8</td>\n",
       "    </tr>\n",
       "  </tbody>\n",
       "</table>\n",
       "</div>"
      ],
      "text/plain": [
       "                                            app_desc  \\\n",
       "0  SAVE 20%, now only $3.99 for a limited time!\\n...   \n",
       "1  Let Evernote change the way you organize your ...   \n",
       "2  Download the most popular free weather app pow...   \n",
       "3  The eBay app is the best way to find anything ...   \n",
       "4  On more than 250 million devices around the wo...   \n",
       "\n",
       "                                          words_list  word_count  digit_count  \n",
       "0  [save, now, only, for, a, limited, time, one, ...         262            7  \n",
       "1  [let, evernote, change, the, way, you, organiz...         600            8  \n",
       "2  [download, the, most, popular, free, weather, ...         297            8  \n",
       "3  [the, ebay, app, is, the, best, way, to, find,...         662            0  \n",
       "4  [on, more, than, million, devices, around, the...         476            8  "
      ]
     },
     "execution_count": 20,
     "metadata": {},
     "output_type": "execute_result"
    }
   ],
   "source": [
    "#测试一下结果\n",
    "desc[['app_desc','words_list','word_count','digit_count']].head()"
   ]
  },
  {
   "cell_type": "markdown",
   "metadata": {},
   "source": [
    "## *去掉停用词*"
   ]
  },
  {
   "cell_type": "code",
   "execution_count": 21,
   "metadata": {
    "collapsed": true
   },
   "outputs": [],
   "source": [
    "from nltk.tokenize import word_tokenize\n"
   ]
  },
  {
   "cell_type": "code",
   "execution_count": 22,
   "metadata": {
    "collapsed": true
   },
   "outputs": [],
   "source": [
    "#将一些没有什么意义的“停用词”放到stop_words里\n",
    "stop_words = nltk.corpus.stopwords.words('english')"
   ]
  },
  {
   "cell_type": "code",
   "execution_count": 23,
   "metadata": {
    "collapsed": false
   },
   "outputs": [
    {
     "data": {
      "text/plain": [
       "161"
      ]
     },
     "execution_count": 23,
     "metadata": {},
     "output_type": "execute_result"
    }
   ],
   "source": [
    "#去掉man_desc_words里的停用词\n",
    "mac_man_filtered_words = [w for w in mac_man_desc_words if not w in stop_words]\n",
    "len(mac_man_filtered_words)"
   ]
  },
  {
   "cell_type": "code",
   "execution_count": 24,
   "metadata": {
    "collapsed": true
   },
   "outputs": [],
   "source": [
    "# 将上述操作放到一个函数里\n",
    "def filter_stop_words(word_list):\n",
    "    return [w for w in word_list if not w in stop_words]"
   ]
  },
  {
   "cell_type": "code",
   "execution_count": 25,
   "metadata": {
    "collapsed": true
   },
   "outputs": [],
   "source": [
    "#并对整个列表应用这个函数，将结果放到filtered_word_list中\n",
    "desc['filtered_word_list'] = desc.words_list.apply(lambda x: filter_stop_words(x))"
   ]
  },
  {
   "cell_type": "code",
   "execution_count": 26,
   "metadata": {
    "collapsed": false
   },
   "outputs": [
    {
     "data": {
      "text/html": [
       "<div>\n",
       "<style scoped>\n",
       "    .dataframe tbody tr th:only-of-type {\n",
       "        vertical-align: middle;\n",
       "    }\n",
       "\n",
       "    .dataframe tbody tr th {\n",
       "        vertical-align: top;\n",
       "    }\n",
       "\n",
       "    .dataframe thead th {\n",
       "        text-align: right;\n",
       "    }\n",
       "</style>\n",
       "<table border=\"1\" class=\"dataframe\">\n",
       "  <thead>\n",
       "    <tr style=\"text-align: right;\">\n",
       "      <th></th>\n",
       "      <th>app_desc</th>\n",
       "      <th>words_list</th>\n",
       "      <th>filtered_word_list</th>\n",
       "    </tr>\n",
       "  </thead>\n",
       "  <tbody>\n",
       "    <tr>\n",
       "      <th>0</th>\n",
       "      <td>SAVE 20%, now only $3.99 for a limited time!\\n...</td>\n",
       "      <td>[save, now, only, for, a, limited, time, one, ...</td>\n",
       "      <td>[save, limited, time, one, popular, video, gam...</td>\n",
       "    </tr>\n",
       "    <tr>\n",
       "      <th>1</th>\n",
       "      <td>Let Evernote change the way you organize your ...</td>\n",
       "      <td>[let, evernote, change, the, way, you, organiz...</td>\n",
       "      <td>[let, evernote, change, way, organize, persona...</td>\n",
       "    </tr>\n",
       "    <tr>\n",
       "      <th>2</th>\n",
       "      <td>Download the most popular free weather app pow...</td>\n",
       "      <td>[download, the, most, popular, free, weather, ...</td>\n",
       "      <td>[download, popular, free, weather, app, powere...</td>\n",
       "    </tr>\n",
       "    <tr>\n",
       "      <th>3</th>\n",
       "      <td>The eBay app is the best way to find anything ...</td>\n",
       "      <td>[the, ebay, app, is, the, best, way, to, find,...</td>\n",
       "      <td>[ebay, app, best, way, find, anything, need, d...</td>\n",
       "    </tr>\n",
       "    <tr>\n",
       "      <th>4</th>\n",
       "      <td>On more than 250 million devices around the wo...</td>\n",
       "      <td>[on, more, than, million, devices, around, the...</td>\n",
       "      <td>[million, devices, around, world, people, read...</td>\n",
       "    </tr>\n",
       "  </tbody>\n",
       "</table>\n",
       "</div>"
      ],
      "text/plain": [
       "                                            app_desc  \\\n",
       "0  SAVE 20%, now only $3.99 for a limited time!\\n...   \n",
       "1  Let Evernote change the way you organize your ...   \n",
       "2  Download the most popular free weather app pow...   \n",
       "3  The eBay app is the best way to find anything ...   \n",
       "4  On more than 250 million devices around the wo...   \n",
       "\n",
       "                                          words_list  \\\n",
       "0  [save, now, only, for, a, limited, time, one, ...   \n",
       "1  [let, evernote, change, the, way, you, organiz...   \n",
       "2  [download, the, most, popular, free, weather, ...   \n",
       "3  [the, ebay, app, is, the, best, way, to, find,...   \n",
       "4  [on, more, than, million, devices, around, the...   \n",
       "\n",
       "                                  filtered_word_list  \n",
       "0  [save, limited, time, one, popular, video, gam...  \n",
       "1  [let, evernote, change, way, organize, persona...  \n",
       "2  [download, popular, free, weather, app, powere...  \n",
       "3  [ebay, app, best, way, find, anything, need, d...  \n",
       "4  [million, devices, around, world, people, read...  "
      ]
     },
     "execution_count": 26,
     "metadata": {},
     "output_type": "execute_result"
    }
   ],
   "source": [
    "#测试一下结果\n",
    "desc[['app_desc','words_list','filtered_word_list']].head()"
   ]
  },
  {
   "cell_type": "code",
   "execution_count": 27,
   "metadata": {
    "collapsed": true
   },
   "outputs": [],
   "source": [
    "#去掉停用词后的词数也储存起来\n",
    "desc['filtered_word_count'] = desc.filtered_word_list.apply(lambda x: len(x))"
   ]
  },
  {
   "cell_type": "code",
   "execution_count": 28,
   "metadata": {
    "collapsed": false
   },
   "outputs": [
    {
     "data": {
      "text/html": [
       "<div>\n",
       "<style scoped>\n",
       "    .dataframe tbody tr th:only-of-type {\n",
       "        vertical-align: middle;\n",
       "    }\n",
       "\n",
       "    .dataframe tbody tr th {\n",
       "        vertical-align: top;\n",
       "    }\n",
       "\n",
       "    .dataframe thead th {\n",
       "        text-align: right;\n",
       "    }\n",
       "</style>\n",
       "<table border=\"1\" class=\"dataframe\">\n",
       "  <thead>\n",
       "    <tr style=\"text-align: right;\">\n",
       "      <th></th>\n",
       "      <th>app_desc</th>\n",
       "      <th>word_count</th>\n",
       "      <th>filtered_word_count</th>\n",
       "    </tr>\n",
       "  </thead>\n",
       "  <tbody>\n",
       "    <tr>\n",
       "      <th>0</th>\n",
       "      <td>SAVE 20%, now only $3.99 for a limited time!\\n...</td>\n",
       "      <td>262</td>\n",
       "      <td>161</td>\n",
       "    </tr>\n",
       "    <tr>\n",
       "      <th>1</th>\n",
       "      <td>Let Evernote change the way you organize your ...</td>\n",
       "      <td>600</td>\n",
       "      <td>396</td>\n",
       "    </tr>\n",
       "    <tr>\n",
       "      <th>2</th>\n",
       "      <td>Download the most popular free weather app pow...</td>\n",
       "      <td>297</td>\n",
       "      <td>223</td>\n",
       "    </tr>\n",
       "    <tr>\n",
       "      <th>3</th>\n",
       "      <td>The eBay app is the best way to find anything ...</td>\n",
       "      <td>662</td>\n",
       "      <td>415</td>\n",
       "    </tr>\n",
       "    <tr>\n",
       "      <th>4</th>\n",
       "      <td>On more than 250 million devices around the wo...</td>\n",
       "      <td>476</td>\n",
       "      <td>300</td>\n",
       "    </tr>\n",
       "  </tbody>\n",
       "</table>\n",
       "</div>"
      ],
      "text/plain": [
       "                                            app_desc  word_count  \\\n",
       "0  SAVE 20%, now only $3.99 for a limited time!\\n...         262   \n",
       "1  Let Evernote change the way you organize your ...         600   \n",
       "2  Download the most popular free weather app pow...         297   \n",
       "3  The eBay app is the best way to find anything ...         662   \n",
       "4  On more than 250 million devices around the wo...         476   \n",
       "\n",
       "   filtered_word_count  \n",
       "0                  161  \n",
       "1                  396  \n",
       "2                  223  \n",
       "3                  415  \n",
       "4                  300  "
      ]
     },
     "execution_count": 28,
     "metadata": {},
     "output_type": "execute_result"
    }
   ],
   "source": [
    "#测试一下结果\n",
    "desc[['app_desc','word_count','filtered_word_count']].head()"
   ]
  },
  {
   "cell_type": "markdown",
   "metadata": {},
   "source": [
    "## *词性还原*"
   ]
  },
  {
   "cell_type": "code",
   "execution_count": 29,
   "metadata": {
    "collapsed": true
   },
   "outputs": [],
   "source": [
    "lemmer = nltk.stem.WordNetLemmatizer()"
   ]
  },
  {
   "cell_type": "code",
   "execution_count": 30,
   "metadata": {
    "collapsed": true
   },
   "outputs": [],
   "source": [
    "#定义一个函数，将一个词汇列表中的所有词汇词性还原\n",
    "def LemTokens(tokens):\n",
    "     return [lemmer.lemmatize(token) for token in tokens]"
   ]
  },
  {
   "cell_type": "code",
   "execution_count": 31,
   "metadata": {
    "collapsed": true
   },
   "outputs": [],
   "source": [
    "#对之前得到的app_desc的第0行去掉停用词后的列表使用该函数测试一下\n",
    "mac_man_lem_words= LemTokens(mac_man_filtered_words)"
   ]
  },
  {
   "cell_type": "code",
   "execution_count": 32,
   "metadata": {
    "collapsed": true
   },
   "outputs": [],
   "source": [
    "#再对整个列表使用该函数\n",
    "desc['lem_words'] = desc.filtered_word_list.apply(lambda x: LemTokens(x))"
   ]
  },
  {
   "cell_type": "code",
   "execution_count": 33,
   "metadata": {
    "collapsed": false
   },
   "outputs": [
    {
     "data": {
      "text/html": [
       "<div>\n",
       "<style scoped>\n",
       "    .dataframe tbody tr th:only-of-type {\n",
       "        vertical-align: middle;\n",
       "    }\n",
       "\n",
       "    .dataframe tbody tr th {\n",
       "        vertical-align: top;\n",
       "    }\n",
       "\n",
       "    .dataframe thead th {\n",
       "        text-align: right;\n",
       "    }\n",
       "</style>\n",
       "<table border=\"1\" class=\"dataframe\">\n",
       "  <thead>\n",
       "    <tr style=\"text-align: right;\">\n",
       "      <th></th>\n",
       "      <th>app_desc</th>\n",
       "      <th>lem_words</th>\n",
       "    </tr>\n",
       "  </thead>\n",
       "  <tbody>\n",
       "    <tr>\n",
       "      <th>0</th>\n",
       "      <td>SAVE 20%, now only $3.99 for a limited time!\\n...</td>\n",
       "      <td>[save, limited, time, one, popular, video, gam...</td>\n",
       "    </tr>\n",
       "    <tr>\n",
       "      <th>1</th>\n",
       "      <td>Let Evernote change the way you organize your ...</td>\n",
       "      <td>[let, evernote, change, way, organize, persona...</td>\n",
       "    </tr>\n",
       "    <tr>\n",
       "      <th>2</th>\n",
       "      <td>Download the most popular free weather app pow...</td>\n",
       "      <td>[download, popular, free, weather, app, powere...</td>\n",
       "    </tr>\n",
       "    <tr>\n",
       "      <th>3</th>\n",
       "      <td>The eBay app is the best way to find anything ...</td>\n",
       "      <td>[ebay, app, best, way, find, anything, need, d...</td>\n",
       "    </tr>\n",
       "    <tr>\n",
       "      <th>4</th>\n",
       "      <td>On more than 250 million devices around the wo...</td>\n",
       "      <td>[million, device, around, world, people, readi...</td>\n",
       "    </tr>\n",
       "  </tbody>\n",
       "</table>\n",
       "</div>"
      ],
      "text/plain": [
       "                                            app_desc  \\\n",
       "0  SAVE 20%, now only $3.99 for a limited time!\\n...   \n",
       "1  Let Evernote change the way you organize your ...   \n",
       "2  Download the most popular free weather app pow...   \n",
       "3  The eBay app is the best way to find anything ...   \n",
       "4  On more than 250 million devices around the wo...   \n",
       "\n",
       "                                           lem_words  \n",
       "0  [save, limited, time, one, popular, video, gam...  \n",
       "1  [let, evernote, change, way, organize, persona...  \n",
       "2  [download, popular, free, weather, app, powere...  \n",
       "3  [ebay, app, best, way, find, anything, need, d...  \n",
       "4  [million, device, around, world, people, readi...  "
      ]
     },
     "execution_count": 33,
     "metadata": {},
     "output_type": "execute_result"
    }
   ],
   "source": [
    "#显示下结果\n",
    "desc[['app_desc','lem_words']].head()"
   ]
  },
  {
   "cell_type": "markdown",
   "metadata": {},
   "source": [
    "## *计算词频*"
   ]
  },
  {
   "cell_type": "code",
   "execution_count": 34,
   "metadata": {
    "collapsed": false
   },
   "outputs": [
    {
     "data": {
      "text/plain": [
       "[('game', 8),\n",
       " ('new', 7),\n",
       " ('maze', 6),\n",
       " ('arcade', 4),\n",
       " ('ghost', 4),\n",
       " ('pac', 4),\n",
       " ('man', 4),\n",
       " ('life', 3),\n",
       " ('hint', 3),\n",
       " ('tip', 3),\n",
       " ('time', 2),\n",
       " ('video', 2),\n",
       " ('dot', 2),\n",
       " ('control', 2),\n",
       " ('mfi', 2),\n",
       " ('controller', 2),\n",
       " ('eat', 2),\n",
       " ('lose', 2),\n",
       " ('pixel', 2),\n",
       " ('classic', 2)]"
      ]
     },
     "execution_count": 34,
     "metadata": {},
     "output_type": "execute_result"
    }
   ],
   "source": [
    "#首先是对词汇列表mac_man_lem_words来计算下词频\n",
    "text = nltk.Text(mac_man_lem_words)\n",
    "freq = nltk.FreqDist(text)\n",
    "freq.most_common(20)"
   ]
  },
  {
   "cell_type": "code",
   "execution_count": 37,
   "metadata": {
    "collapsed": true
   },
   "outputs": [],
   "source": [
    "#再用一个函数来描述上述操作\n",
    "def cal_freq(word_list):\n",
    "    text = nltk.Text(word_list)\n",
    "    freq = nltk.FreqDist(text)\n",
    "    return freq.most_common()\n"
   ]
  },
  {
   "cell_type": "code",
   "execution_count": 38,
   "metadata": {
    "collapsed": true
   },
   "outputs": [],
   "source": [
    "#对整个列表使用该函数，并存在freq里\n",
    "desc['freq'] = desc.lem_words.apply(lambda x: cal_freq(x))\n"
   ]
  },
  {
   "cell_type": "code",
   "execution_count": 39,
   "metadata": {
    "collapsed": false
   },
   "outputs": [
    {
     "data": {
      "text/plain": [
       "0    [(game, 8), (new, 7), (maze, 6), (arcade, 4), ...\n",
       "1    [(evernote, 21), (note, 14), (device, 6), (wor...\n",
       "2    [(weather, 17), (alert, 7), (network, 6), (for...\n",
       "3    [(item, 16), (ebay, 15), (find, 10), (new, 10)...\n",
       "4    [(bible, 28), (app, 8), (version, 6), (share, ...\n",
       "Name: freq, dtype: object"
      ]
     },
     "execution_count": 39,
     "metadata": {},
     "output_type": "execute_result"
    }
   ],
   "source": [
    "#测试一下结果\n",
    "desc.freq.head()"
   ]
  }
 ],
 "metadata": {
  "anaconda-cloud": {},
  "kernelspec": {
   "display_name": "Python [Root]",
   "language": "python",
   "name": "Python [Root]"
  },
  "language_info": {
   "codemirror_mode": {
    "name": "ipython",
    "version": 3
   },
   "file_extension": ".py",
   "mimetype": "text/x-python",
   "name": "python",
   "nbconvert_exporter": "python",
   "pygments_lexer": "ipython3",
   "version": "3.5.2"
  }
 },
 "nbformat": 4,
 "nbformat_minor": 2
}
